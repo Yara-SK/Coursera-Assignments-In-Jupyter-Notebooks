{
 "cells": [
  {
   "cell_type": "markdown",
   "metadata": {},
   "source": [
    "## Assignment 2\n",
    "In  this  part  of  the  exercise,  you  will  build  a  logistic  regression  model  to predict whether a student gets admitted into a university. \n",
    "\n",
    "Suppose that you are the administrator of a university department and you want to determine each applicant’s chance of admission based on their results on two exams. You  have  historical  data  from  previous  applicantsthat you can use as a training set for logistic regression.  For each training example, you have the applicant’s scores on two exams and the admissions decision.\n",
    "\n",
    "Your task is to build a classification model that estimates an applicant’s probability of admission based on the scores from those two exams."
   ]
  },
  {
   "cell_type": "code",
   "execution_count": null,
   "metadata": {},
   "outputs": [],
   "source": []
  },
  {
   "cell_type": "code",
   "execution_count": 1,
   "metadata": {},
   "outputs": [],
   "source": [
    "import numpy as np\n",
    "import pandas as pd\n",
    "import matplotlib.pyplot as plt\n",
    "import scipy.optimize as opt\n",
    "\n",
    "%matplotlib inline"
   ]
  },
  {
   "cell_type": "code",
   "execution_count": 2,
   "metadata": {},
   "outputs": [
    {
     "data": {
      "text/html": [
       "<div>\n",
       "<style scoped>\n",
       "    .dataframe tbody tr th:only-of-type {\n",
       "        vertical-align: middle;\n",
       "    }\n",
       "\n",
       "    .dataframe tbody tr th {\n",
       "        vertical-align: top;\n",
       "    }\n",
       "\n",
       "    .dataframe thead th {\n",
       "        text-align: right;\n",
       "    }\n",
       "</style>\n",
       "<table border=\"1\" class=\"dataframe\">\n",
       "  <thead>\n",
       "    <tr style=\"text-align: right;\">\n",
       "      <th></th>\n",
       "      <th>exam1</th>\n",
       "      <th>exam2</th>\n",
       "      <th>result</th>\n",
       "    </tr>\n",
       "  </thead>\n",
       "  <tbody>\n",
       "    <tr>\n",
       "      <th>0</th>\n",
       "      <td>34.623660</td>\n",
       "      <td>78.024693</td>\n",
       "      <td>0</td>\n",
       "    </tr>\n",
       "    <tr>\n",
       "      <th>1</th>\n",
       "      <td>30.286711</td>\n",
       "      <td>43.894998</td>\n",
       "      <td>0</td>\n",
       "    </tr>\n",
       "    <tr>\n",
       "      <th>2</th>\n",
       "      <td>35.847409</td>\n",
       "      <td>72.902198</td>\n",
       "      <td>0</td>\n",
       "    </tr>\n",
       "    <tr>\n",
       "      <th>3</th>\n",
       "      <td>60.182599</td>\n",
       "      <td>86.308552</td>\n",
       "      <td>1</td>\n",
       "    </tr>\n",
       "    <tr>\n",
       "      <th>4</th>\n",
       "      <td>79.032736</td>\n",
       "      <td>75.344376</td>\n",
       "      <td>1</td>\n",
       "    </tr>\n",
       "  </tbody>\n",
       "</table>\n",
       "</div>"
      ],
      "text/plain": [
       "       exam1      exam2  result\n",
       "0  34.623660  78.024693       0\n",
       "1  30.286711  43.894998       0\n",
       "2  35.847409  72.902198       0\n",
       "3  60.182599  86.308552       1\n",
       "4  79.032736  75.344376       1"
      ]
     },
     "execution_count": 2,
     "metadata": {},
     "output_type": "execute_result"
    }
   ],
   "source": [
    "# Loading Data\n",
    "ex2_df = pd.read_csv('ex2data1.txt')\n",
    "ex2_df.head()"
   ]
  },
  {
   "cell_type": "code",
   "execution_count": 3,
   "metadata": {},
   "outputs": [
    {
     "data": {
      "image/png": "[encoded data removed]",
      "text/plain": [
       "<Figure size 648x648 with 1 Axes>"
      ]
     },
     "metadata": {
      "needs_background": "light"
     },
     "output_type": "display_data"
    }
   ],
   "source": [
    "# Data visualisation\n",
    "passed = ex2_df[ex2_df['result'].isin([1])]\n",
    "failed = ex2_df[ex2_df['result'].isin([0])]\n",
    "\n",
    "fig, ax = plt.subplots(figsize=(9,9))\n",
    "\n",
    "ax.scatter(passed['exam1'], passed['exam2'], marker='+', c='k', lw=2, label='passed')\n",
    "ax.scatter(failed['exam1'], failed['exam2'], marker='o', c='crimson', label='failed')\n",
    "ax.set_xlabel('exam1 score')\n",
    "ax.set_ylabel('exam2 score')\n",
    "ax.set_title('Admission Results By The Scores of 2 Exams')\n",
    "ax.legend(loc=1)\n",
    "\n",
    "plt.show()"
   ]
  },
  {
   "cell_type": "code",
   "execution_count": null,
   "metadata": {},
   "outputs": [],
   "source": []
  },
  {
   "cell_type": "code",
   "execution_count": 4,
   "metadata": {},
   "outputs": [
    {
     "data": {
      "text/html": [
       "<div>\n",
       "<style scoped>\n",
       "    .dataframe tbody tr th:only-of-type {\n",
       "        vertical-align: middle;\n",
       "    }\n",
       "\n",
       "    .dataframe tbody tr th {\n",
       "        vertical-align: top;\n",
       "    }\n",
       "\n",
       "    .dataframe thead th {\n",
       "        text-align: right;\n",
       "    }\n",
       "</style>\n",
       "<table border=\"1\" class=\"dataframe\">\n",
       "  <thead>\n",
       "    <tr style=\"text-align: right;\">\n",
       "      <th></th>\n",
       "      <th>ones</th>\n",
       "      <th>exam1</th>\n",
       "      <th>exam2</th>\n",
       "      <th>result</th>\n",
       "    </tr>\n",
       "  </thead>\n",
       "  <tbody>\n",
       "    <tr>\n",
       "      <th>0</th>\n",
       "      <td>1</td>\n",
       "      <td>34.623660</td>\n",
       "      <td>78.024693</td>\n",
       "      <td>0</td>\n",
       "    </tr>\n",
       "    <tr>\n",
       "      <th>1</th>\n",
       "      <td>1</td>\n",
       "      <td>30.286711</td>\n",
       "      <td>43.894998</td>\n",
       "      <td>0</td>\n",
       "    </tr>\n",
       "    <tr>\n",
       "      <th>2</th>\n",
       "      <td>1</td>\n",
       "      <td>35.847409</td>\n",
       "      <td>72.902198</td>\n",
       "      <td>0</td>\n",
       "    </tr>\n",
       "    <tr>\n",
       "      <th>3</th>\n",
       "      <td>1</td>\n",
       "      <td>60.182599</td>\n",
       "      <td>86.308552</td>\n",
       "      <td>1</td>\n",
       "    </tr>\n",
       "    <tr>\n",
       "      <th>4</th>\n",
       "      <td>1</td>\n",
       "      <td>79.032736</td>\n",
       "      <td>75.344376</td>\n",
       "      <td>1</td>\n",
       "    </tr>\n",
       "  </tbody>\n",
       "</table>\n",
       "</div>"
      ],
      "text/plain": [
       "   ones      exam1      exam2  result\n",
       "0     1  34.623660  78.024693       0\n",
       "1     1  30.286711  43.894998       0\n",
       "2     1  35.847409  72.902198       0\n",
       "3     1  60.182599  86.308552       1\n",
       "4     1  79.032736  75.344376       1"
      ]
     },
     "execution_count": 4,
     "metadata": {},
     "output_type": "execute_result"
    }
   ],
   "source": [
    "# Adding a column of 1's\n",
    "ex2_df.insert(0,'ones',1)\n",
    "ex2_df.head()"
   ]
  },
  {
   "cell_type": "code",
   "execution_count": 85,
   "metadata": {},
   "outputs": [],
   "source": [
    "# Setting up X and y\n",
    "cols = ex2_df.shape[1]\n",
    "\n",
    "X_df = ex2_df.iloc[:,0:cols-1]\n",
    "y_df = ex2_df.iloc[:,3]\n",
    "\n",
    "X = np.matrix(X_df)\n",
    "y = np.matrix(y_df)\n",
    "\n",
    "m = y.shape[1]\n",
    "theta = np.zeros(3)"
   ]
  },
  {
   "cell_type": "code",
   "execution_count": null,
   "metadata": {},
   "outputs": [],
   "source": []
  },
  {
   "cell_type": "code",
   "execution_count": 135,
   "metadata": {},
   "outputs": [],
   "source": [
    "def sigmoid(z):\n",
    "    return 1 / (1 + np.exp(-z))"
   ]
  },
  {
   "cell_type": "code",
   "execution_count": 136,
   "metadata": {},
   "outputs": [],
   "source": [
    "def computeCost(theta, X, y, m):\n",
    "    theta = np.matrix(theta)\n",
    "\n",
    "    h = sigmoid(X*theta.T)\n",
    "    if_pass = -y * np.log(h) #if y=1, this cost function is applied, and the other = 1-1 =0\n",
    "    if_fail = (1-y) * np.log(1-h) #if y=0, this cost function is applied\n",
    "    \n",
    "    J = 1/m * np.sum(if_pass - if_fail)\n",
    "    \n",
    "    grad = (1/m) * (h-y.T).T * X\n",
    "    \n",
    "    return J, grad"
   ]
  },
  {
   "cell_type": "code",
   "execution_count": 137,
   "metadata": {},
   "outputs": [
    {
     "name": "stdout",
     "output_type": "stream",
     "text": [
      "Cost function for theta=[0;0;0] is 0.6931471805599453\n",
      "Gradients are [matrix([[ -0.1       , -12.00921659, -11.26284221]])]\n"
     ]
    }
   ],
   "source": [
    "# Check to see if cost function is working\n",
    "J, grad = computeCost(theta, X, y, m)\n",
    "print(\"Cost function for theta=[0;0;0] is {}\".format(J))\n",
    "print(\"Gradients are {}\".format([i for i in grad]))"
   ]
  },
  {
   "cell_type": "code",
   "execution_count": 138,
   "metadata": {},
   "outputs": [
    {
     "name": "stdout",
     "output_type": "stream",
     "text": [
      "Cost function for theta=[0;0;0] is 0.21833019382659785\n",
      "Gradients are [matrix([[0.04290299, 2.56623412, 2.64679737]])]\n"
     ]
    }
   ],
   "source": [
    "test_theta = np.matrix([-24, 0.2, 0.2])\n",
    "J2, grad2 = computeCost(test_theta, X, y, m)\n",
    "\n",
    "print(\"Cost function for theta=[0;0;0] is {}\".format(J2))\n",
    "print(\"Gradients are {}\".format([i for i in grad2]))"
   ]
  },
  {
   "cell_type": "code",
   "execution_count": null,
   "metadata": {},
   "outputs": [],
   "source": []
  },
  {
   "cell_type": "code",
   "execution_count": null,
   "metadata": {},
   "outputs": [],
   "source": []
  },
  {
   "cell_type": "code",
   "execution_count": 154,
   "metadata": {},
   "outputs": [],
   "source": [
    "# Minimize a function using truncated Newton Algorithm from Scipy\n",
    "# https://docs.scipy.org/doc/scipy/reference/generated/scipy.optimize.fmin_tnc.html#scipy.optimize.fmin_tnc\n",
    "\n",
    "optimize = opt.fmin_tnc(func=computeCost, x0=theta, args=(X, y, m))\n",
    "theta_opt = optimize[0]\n",
    "J_opt, grad = computeCost(theta_opt, X, y, m)"
   ]
  },
  {
   "cell_type": "code",
   "execution_count": 156,
   "metadata": {},
   "outputs": [
    {
     "name": "stdout",
     "output_type": "stream",
     "text": [
      "Theta after optimization: [-25.16131864   0.20623159   0.20147149]\n",
      "Cost function after optimization: 0.20349770158947447\n"
     ]
    }
   ],
   "source": [
    "print('Theta after optimization: {}'.format(theta_opt))\n",
    "print('Cost function after optimization: {}'.format(J_opt))"
   ]
  },
  {
   "cell_type": "code",
   "execution_count": null,
   "metadata": {},
   "outputs": [],
   "source": []
  },
  {
   "cell_type": "code",
   "execution_count": 158,
   "metadata": {},
   "outputs": [
    {
     "data": {
      "image/png": "[encoded data removed]",
      "text/plain": [
       "<Figure size 648x648 with 1 Axes>"
      ]
     },
     "metadata": {
      "needs_background": "light"
     },
     "output_type": "display_data"
    }
   ],
   "source": [
    "# Decision Boundary Graph\n",
    "fig, ax = plt.subplots(figsize=(9,9))\n",
    "\n",
    "#decision boundary x and y axis\n",
    "xx = np.linspace(20,110,1100)\n",
    "yy = (-theta_opt[0] - theta_opt[1]*xx)/theta_opt[2]\n",
    "\n",
    "ax.set_xlim([28,105])\n",
    "ax.set_ylim([28,105])\n",
    "\n",
    "#plot decision boundary\n",
    "plt.plot(xx, yy, '--m', label='Decision Boundary')\n",
    "\n",
    "ax.scatter(passed['exam1'], passed['exam2'], marker='+', c='k', lw=2, label='passed')\n",
    "ax.scatter(failed['exam1'], failed['exam2'], marker='o', c='crimson', label='failed')\n",
    "ax.set_xlabel('exam1 score')\n",
    "ax.set_ylabel('exam2 score')\n",
    "ax.set_title('Admission Results By The Scores of 2 Exams')\n",
    "ax.legend(loc=1)\n",
    "\n",
    "plt.show()"
   ]
  },
  {
   "cell_type": "code",
   "execution_count": null,
   "metadata": {},
   "outputs": [],
   "source": []
  },
  {
   "cell_type": "code",
   "execution_count": 159,
   "metadata": {},
   "outputs": [],
   "source": [
    "# Function that decides if student is admitted or not\n",
    "def pass_fail(input_mat, theta_opt):\n",
    "    prob = sigmoid(np.sum(np.multiply(input_mat, theta_opt)))\n",
    "    if prob >= 0.5:\n",
    "        return 1\n",
    "    else:\n",
    "        return 0"
   ]
  },
  {
   "cell_type": "code",
   "execution_count": 160,
   "metadata": {},
   "outputs": [],
   "source": [
    "# Prediction\n",
    "def prediction(theta, X):\n",
    "    X_pred_list = []\n",
    "    rows = 0\n",
    "    \n",
    "    for i in X:\n",
    "        X_pred_list.append(pass_fail(i,theta))\n",
    "        rows += 1\n",
    "        \n",
    "    X_pred = np.array(X_pred_list).reshape(rows,1)\n",
    "    \n",
    "    return X_pred"
   ]
  },
  {
   "cell_type": "code",
   "execution_count": 178,
   "metadata": {},
   "outputs": [],
   "source": [
    "# Count Accuracy\n",
    "def accuracy(predictions, y):\n",
    "    total = 0 \n",
    "    \n",
    "    for i in range(len(predictions)):\n",
    "        if int(predictions[i]) == int(y.T[i]):\n",
    "            total += 1\n",
    "            \n",
    "    return total/len(y.T)"
   ]
  },
  {
   "cell_type": "code",
   "execution_count": 179,
   "metadata": {},
   "outputs": [
    {
     "name": "stdout",
     "output_type": "stream",
     "text": [
      "The total accuracy of our predictions is: 89.0%\n"
     ]
    }
   ],
   "source": [
    "predictions = prediction(theta_opt, X)\n",
    "acc = accuracy(predictions, y)\n",
    "\n",
    "print('The total accuracy of our predictions is: {}%'.format(acc*100))"
   ]
  },
  {
   "cell_type": "code",
   "execution_count": null,
   "metadata": {},
   "outputs": [],
   "source": []
  },
  {
   "cell_type": "code",
   "execution_count": null,
   "metadata": {},
   "outputs": [],
   "source": []
  },
  {
   "cell_type": "markdown",
   "metadata": {},
   "source": [
    "## Regularized Logistic Regression\n",
    "\n",
    "In this part of the exercise, you will implement regularized logistic regression to predict whether microchips from a fabrication plant passes quality assurance (QA). During QA, each microchip goes through various tests to ensure it is functioning correctly.\n",
    "\n",
    "Suppose you are the product manager of the factory and you have the test results for some microchips on two different tests. From these two tests, you would like to determine whether the microchips should be accepted or rejected. To help you make the decision, you have a dataset of test results on past microchips, from which you can build a logistic regression model."
   ]
  },
  {
   "cell_type": "code",
   "execution_count": 180,
   "metadata": {},
   "outputs": [
    {
     "data": {
      "text/html": [
       "<div>\n",
       "<style scoped>\n",
       "    .dataframe tbody tr th:only-of-type {\n",
       "        vertical-align: middle;\n",
       "    }\n",
       "\n",
       "    .dataframe tbody tr th {\n",
       "        vertical-align: top;\n",
       "    }\n",
       "\n",
       "    .dataframe thead th {\n",
       "        text-align: right;\n",
       "    }\n",
       "</style>\n",
       "<table border=\"1\" class=\"dataframe\">\n",
       "  <thead>\n",
       "    <tr style=\"text-align: right;\">\n",
       "      <th></th>\n",
       "      <th>test1</th>\n",
       "      <th>test2</th>\n",
       "      <th>result</th>\n",
       "    </tr>\n",
       "  </thead>\n",
       "  <tbody>\n",
       "    <tr>\n",
       "      <th>0</th>\n",
       "      <td>0.051267</td>\n",
       "      <td>0.69956</td>\n",
       "      <td>1</td>\n",
       "    </tr>\n",
       "    <tr>\n",
       "      <th>1</th>\n",
       "      <td>-0.092742</td>\n",
       "      <td>0.68494</td>\n",
       "      <td>1</td>\n",
       "    </tr>\n",
       "    <tr>\n",
       "      <th>2</th>\n",
       "      <td>-0.213710</td>\n",
       "      <td>0.69225</td>\n",
       "      <td>1</td>\n",
       "    </tr>\n",
       "    <tr>\n",
       "      <th>3</th>\n",
       "      <td>-0.375000</td>\n",
       "      <td>0.50219</td>\n",
       "      <td>1</td>\n",
       "    </tr>\n",
       "    <tr>\n",
       "      <th>4</th>\n",
       "      <td>-0.513250</td>\n",
       "      <td>0.46564</td>\n",
       "      <td>1</td>\n",
       "    </tr>\n",
       "  </tbody>\n",
       "</table>\n",
       "</div>"
      ],
      "text/plain": [
       "      test1    test2  result\n",
       "0  0.051267  0.69956       1\n",
       "1 -0.092742  0.68494       1\n",
       "2 -0.213710  0.69225       1\n",
       "3 -0.375000  0.50219       1\n",
       "4 -0.513250  0.46564       1"
      ]
     },
     "execution_count": 180,
     "metadata": {},
     "output_type": "execute_result"
    }
   ],
   "source": [
    "ex2r_df = pd.read_csv('ex2data2.txt')\n",
    "ex2r_df.head()"
   ]
  },
  {
   "cell_type": "code",
   "execution_count": 181,
   "metadata": {},
   "outputs": [
    {
     "data": {
      "image/png": "[encoded data removed]",
      "text/plain": [
       "<Figure size 648x648 with 1 Axes>"
      ]
     },
     "metadata": {
      "needs_background": "light"
     },
     "output_type": "display_data"
    }
   ],
   "source": [
    "# Data visualisation\n",
    "passed_2 = ex2r_df[ex2r_df['result'].isin([1])]\n",
    "failed_2 = ex2r_df[ex2r_df['result'].isin([0])]\n",
    "\n",
    "fig, ax = plt.subplots(figsize=(9,9))\n",
    "\n",
    "ax.scatter(passed_2['test1'], passed_2['test2'], marker='+', c='k', lw=2, label='passed')\n",
    "ax.scatter(failed_2['test1'], failed_2['test2'], marker='o', c='crimson', label='failed')\n",
    "ax.set_xlabel('test1 score')\n",
    "ax.set_ylabel('test2 score')\n",
    "ax.set_title('Acceptance Results By Conclusions of 2 Tests')\n",
    "ax.legend(loc=1)\n",
    "\n",
    "plt.show()"
   ]
  },
  {
   "cell_type": "code",
   "execution_count": null,
   "metadata": {},
   "outputs": [],
   "source": []
  },
  {
   "cell_type": "code",
   "execution_count": 182,
   "metadata": {},
   "outputs": [],
   "source": [
    "# Feature Mapping\n",
    "def mapFeatures(X1, X2, degree):\n",
    "    # Make a copy\n",
    "    ex2r_df_fmap = ex2r_df.copy()\n",
    "    \n",
    "    for i in range(1, degree+1):\n",
    "        for j in range(0, i+1):\n",
    "            ex2r_df_fmap[str(i)+str(j)+'_polynomial'] = np.power(X1, i-j) * np.power(X2, j)  \n",
    "\n",
    "    ex2r_df_fmap.drop('test1', axis=1, inplace=True)\n",
    "    ex2r_df_fmap.drop('test2', axis=1, inplace=True)\n",
    "    ex2r_df_fmap.insert(1,'ones',1)\n",
    "    \n",
    "    return ex2r_df_fmap"
   ]
  },
  {
   "cell_type": "code",
   "execution_count": null,
   "metadata": {},
   "outputs": [],
   "source": []
  },
  {
   "cell_type": "code",
   "execution_count": 183,
   "metadata": {},
   "outputs": [],
   "source": [
    "# Parameters for Feature Mapping\n",
    "degree = 6\n",
    "X1 = ex2r_df['test1']\n",
    "X2 = ex2r_df['test2']\n",
    "\n",
    "ex2r_df_fmap = mapFeatures(X1, X2, degree)"
   ]
  },
  {
   "cell_type": "code",
   "execution_count": 184,
   "metadata": {},
   "outputs": [
    {
     "data": {
      "text/html": [
       "<div>\n",
       "<style scoped>\n",
       "    .dataframe tbody tr th:only-of-type {\n",
       "        vertical-align: middle;\n",
       "    }\n",
       "\n",
       "    .dataframe tbody tr th {\n",
       "        vertical-align: top;\n",
       "    }\n",
       "\n",
       "    .dataframe thead th {\n",
       "        text-align: right;\n",
       "    }\n",
       "</style>\n",
       "<table border=\"1\" class=\"dataframe\">\n",
       "  <thead>\n",
       "    <tr style=\"text-align: right;\">\n",
       "      <th></th>\n",
       "      <th>result</th>\n",
       "      <th>ones</th>\n",
       "      <th>10_polynomial</th>\n",
       "      <th>11_polynomial</th>\n",
       "      <th>20_polynomial</th>\n",
       "      <th>21_polynomial</th>\n",
       "      <th>22_polynomial</th>\n",
       "      <th>30_polynomial</th>\n",
       "      <th>31_polynomial</th>\n",
       "      <th>32_polynomial</th>\n",
       "      <th>...</th>\n",
       "      <th>53_polynomial</th>\n",
       "      <th>54_polynomial</th>\n",
       "      <th>55_polynomial</th>\n",
       "      <th>60_polynomial</th>\n",
       "      <th>61_polynomial</th>\n",
       "      <th>62_polynomial</th>\n",
       "      <th>63_polynomial</th>\n",
       "      <th>64_polynomial</th>\n",
       "      <th>65_polynomial</th>\n",
       "      <th>66_polynomial</th>\n",
       "    </tr>\n",
       "  </thead>\n",
       "  <tbody>\n",
       "    <tr>\n",
       "      <th>0</th>\n",
       "      <td>1</td>\n",
       "      <td>1</td>\n",
       "      <td>0.051267</td>\n",
       "      <td>0.699560</td>\n",
       "      <td>0.002628</td>\n",
       "      <td>0.035864</td>\n",
       "      <td>0.489384</td>\n",
       "      <td>1.347453e-04</td>\n",
       "      <td>0.001839</td>\n",
       "      <td>0.025089</td>\n",
       "      <td>...</td>\n",
       "      <td>0.000900</td>\n",
       "      <td>1.227829e-02</td>\n",
       "      <td>1.675424e-01</td>\n",
       "      <td>1.815630e-08</td>\n",
       "      <td>2.477505e-07</td>\n",
       "      <td>3.380660e-06</td>\n",
       "      <td>4.613055e-05</td>\n",
       "      <td>6.294709e-04</td>\n",
       "      <td>8.589398e-03</td>\n",
       "      <td>1.172060e-01</td>\n",
       "    </tr>\n",
       "    <tr>\n",
       "      <th>1</th>\n",
       "      <td>1</td>\n",
       "      <td>1</td>\n",
       "      <td>-0.092742</td>\n",
       "      <td>0.684940</td>\n",
       "      <td>0.008601</td>\n",
       "      <td>-0.063523</td>\n",
       "      <td>0.469143</td>\n",
       "      <td>-7.976812e-04</td>\n",
       "      <td>0.005891</td>\n",
       "      <td>-0.043509</td>\n",
       "      <td>...</td>\n",
       "      <td>0.002764</td>\n",
       "      <td>-2.041205e-02</td>\n",
       "      <td>1.507518e-01</td>\n",
       "      <td>6.362953e-07</td>\n",
       "      <td>-4.699318e-06</td>\n",
       "      <td>3.470651e-05</td>\n",
       "      <td>-2.563226e-04</td>\n",
       "      <td>1.893054e-03</td>\n",
       "      <td>-1.398103e-02</td>\n",
       "      <td>1.032560e-01</td>\n",
       "    </tr>\n",
       "    <tr>\n",
       "      <th>2</th>\n",
       "      <td>1</td>\n",
       "      <td>1</td>\n",
       "      <td>-0.213710</td>\n",
       "      <td>0.692250</td>\n",
       "      <td>0.045672</td>\n",
       "      <td>-0.147941</td>\n",
       "      <td>0.479210</td>\n",
       "      <td>-9.760555e-03</td>\n",
       "      <td>0.031616</td>\n",
       "      <td>-0.102412</td>\n",
       "      <td>...</td>\n",
       "      <td>0.015151</td>\n",
       "      <td>-4.907685e-02</td>\n",
       "      <td>1.589699e-01</td>\n",
       "      <td>9.526844e-05</td>\n",
       "      <td>-3.085938e-04</td>\n",
       "      <td>9.995978e-04</td>\n",
       "      <td>-3.237900e-03</td>\n",
       "      <td>1.048821e-02</td>\n",
       "      <td>-3.397345e-02</td>\n",
       "      <td>1.100469e-01</td>\n",
       "    </tr>\n",
       "    <tr>\n",
       "      <th>3</th>\n",
       "      <td>1</td>\n",
       "      <td>1</td>\n",
       "      <td>-0.375000</td>\n",
       "      <td>0.502190</td>\n",
       "      <td>0.140625</td>\n",
       "      <td>-0.188321</td>\n",
       "      <td>0.252195</td>\n",
       "      <td>-5.273438e-02</td>\n",
       "      <td>0.070620</td>\n",
       "      <td>-0.094573</td>\n",
       "      <td>...</td>\n",
       "      <td>0.017810</td>\n",
       "      <td>-2.385083e-02</td>\n",
       "      <td>3.194040e-02</td>\n",
       "      <td>2.780914e-03</td>\n",
       "      <td>-3.724126e-03</td>\n",
       "      <td>4.987251e-03</td>\n",
       "      <td>-6.678793e-03</td>\n",
       "      <td>8.944062e-03</td>\n",
       "      <td>-1.197765e-02</td>\n",
       "      <td>1.604015e-02</td>\n",
       "    </tr>\n",
       "    <tr>\n",
       "      <th>4</th>\n",
       "      <td>1</td>\n",
       "      <td>1</td>\n",
       "      <td>-0.513250</td>\n",
       "      <td>0.465640</td>\n",
       "      <td>0.263426</td>\n",
       "      <td>-0.238990</td>\n",
       "      <td>0.216821</td>\n",
       "      <td>-1.352032e-01</td>\n",
       "      <td>0.122661</td>\n",
       "      <td>-0.111283</td>\n",
       "      <td>...</td>\n",
       "      <td>0.026596</td>\n",
       "      <td>-2.412849e-02</td>\n",
       "      <td>2.189028e-02</td>\n",
       "      <td>1.827990e-02</td>\n",
       "      <td>-1.658422e-02</td>\n",
       "      <td>1.504584e-02</td>\n",
       "      <td>-1.365016e-02</td>\n",
       "      <td>1.238395e-02</td>\n",
       "      <td>-1.123519e-02</td>\n",
       "      <td>1.019299e-02</td>\n",
       "    </tr>\n",
       "    <tr>\n",
       "      <th>...</th>\n",
       "      <td>...</td>\n",
       "      <td>...</td>\n",
       "      <td>...</td>\n",
       "      <td>...</td>\n",
       "      <td>...</td>\n",
       "      <td>...</td>\n",
       "      <td>...</td>\n",
       "      <td>...</td>\n",
       "      <td>...</td>\n",
       "      <td>...</td>\n",
       "      <td>...</td>\n",
       "      <td>...</td>\n",
       "      <td>...</td>\n",
       "      <td>...</td>\n",
       "      <td>...</td>\n",
       "      <td>...</td>\n",
       "      <td>...</td>\n",
       "      <td>...</td>\n",
       "      <td>...</td>\n",
       "      <td>...</td>\n",
       "      <td>...</td>\n",
       "    </tr>\n",
       "    <tr>\n",
       "      <th>113</th>\n",
       "      <td>0</td>\n",
       "      <td>1</td>\n",
       "      <td>-0.720620</td>\n",
       "      <td>0.538740</td>\n",
       "      <td>0.519293</td>\n",
       "      <td>-0.388227</td>\n",
       "      <td>0.290241</td>\n",
       "      <td>-3.742131e-01</td>\n",
       "      <td>0.279764</td>\n",
       "      <td>-0.209153</td>\n",
       "      <td>...</td>\n",
       "      <td>0.081199</td>\n",
       "      <td>-6.070482e-02</td>\n",
       "      <td>4.538330e-02</td>\n",
       "      <td>1.400354e-01</td>\n",
       "      <td>-1.046913e-01</td>\n",
       "      <td>7.826790e-02</td>\n",
       "      <td>-5.851357e-02</td>\n",
       "      <td>4.374511e-02</td>\n",
       "      <td>-3.270412e-02</td>\n",
       "      <td>2.444980e-02</td>\n",
       "    </tr>\n",
       "    <tr>\n",
       "      <th>114</th>\n",
       "      <td>0</td>\n",
       "      <td>1</td>\n",
       "      <td>-0.593890</td>\n",
       "      <td>0.494880</td>\n",
       "      <td>0.352705</td>\n",
       "      <td>-0.293904</td>\n",
       "      <td>0.244906</td>\n",
       "      <td>-2.094682e-01</td>\n",
       "      <td>0.174547</td>\n",
       "      <td>-0.145447</td>\n",
       "      <td>...</td>\n",
       "      <td>0.042748</td>\n",
       "      <td>-3.562096e-02</td>\n",
       "      <td>2.968243e-02</td>\n",
       "      <td>4.387691e-02</td>\n",
       "      <td>-3.656200e-02</td>\n",
       "      <td>3.046659e-02</td>\n",
       "      <td>-2.538737e-02</td>\n",
       "      <td>2.115493e-02</td>\n",
       "      <td>-1.762810e-02</td>\n",
       "      <td>1.468924e-02</td>\n",
       "    </tr>\n",
       "    <tr>\n",
       "      <th>115</th>\n",
       "      <td>0</td>\n",
       "      <td>1</td>\n",
       "      <td>-0.484450</td>\n",
       "      <td>0.999270</td>\n",
       "      <td>0.234692</td>\n",
       "      <td>-0.484096</td>\n",
       "      <td>0.998541</td>\n",
       "      <td>-1.136964e-01</td>\n",
       "      <td>0.234520</td>\n",
       "      <td>-0.483743</td>\n",
       "      <td>...</td>\n",
       "      <td>0.234178</td>\n",
       "      <td>-4.830370e-01</td>\n",
       "      <td>9.963553e-01</td>\n",
       "      <td>1.292688e-02</td>\n",
       "      <td>-2.666414e-02</td>\n",
       "      <td>5.499985e-02</td>\n",
       "      <td>-1.134476e-01</td>\n",
       "      <td>2.340073e-01</td>\n",
       "      <td>-4.826843e-01</td>\n",
       "      <td>9.956280e-01</td>\n",
       "    </tr>\n",
       "    <tr>\n",
       "      <th>116</th>\n",
       "      <td>0</td>\n",
       "      <td>1</td>\n",
       "      <td>-0.006336</td>\n",
       "      <td>0.999270</td>\n",
       "      <td>0.000040</td>\n",
       "      <td>-0.006332</td>\n",
       "      <td>0.998541</td>\n",
       "      <td>-2.544062e-07</td>\n",
       "      <td>0.000040</td>\n",
       "      <td>-0.006327</td>\n",
       "      <td>...</td>\n",
       "      <td>0.000040</td>\n",
       "      <td>-6.317918e-03</td>\n",
       "      <td>9.963553e-01</td>\n",
       "      <td>6.472253e-14</td>\n",
       "      <td>-1.020695e-11</td>\n",
       "      <td>1.609667e-09</td>\n",
       "      <td>-2.538495e-07</td>\n",
       "      <td>4.003286e-05</td>\n",
       "      <td>-6.313306e-03</td>\n",
       "      <td>9.956280e-01</td>\n",
       "    </tr>\n",
       "    <tr>\n",
       "      <th>117</th>\n",
       "      <td>0</td>\n",
       "      <td>1</td>\n",
       "      <td>0.632650</td>\n",
       "      <td>-0.030612</td>\n",
       "      <td>0.400246</td>\n",
       "      <td>-0.019367</td>\n",
       "      <td>0.000937</td>\n",
       "      <td>2.532156e-01</td>\n",
       "      <td>-0.012252</td>\n",
       "      <td>0.000593</td>\n",
       "      <td>...</td>\n",
       "      <td>-0.000011</td>\n",
       "      <td>5.555592e-07</td>\n",
       "      <td>-2.688181e-08</td>\n",
       "      <td>6.411816e-02</td>\n",
       "      <td>-3.102482e-03</td>\n",
       "      <td>1.501196e-04</td>\n",
       "      <td>-7.263830e-06</td>\n",
       "      <td>3.514745e-07</td>\n",
       "      <td>-1.700678e-08</td>\n",
       "      <td>8.229060e-10</td>\n",
       "    </tr>\n",
       "  </tbody>\n",
       "</table>\n",
       "<p>118 rows × 29 columns</p>\n",
       "</div>"
      ],
      "text/plain": [
       "     result  ones  10_polynomial  11_polynomial  20_polynomial  21_polynomial  \\\n",
       "0         1     1       0.051267       0.699560       0.002628       0.035864   \n",
       "1         1     1      -0.092742       0.684940       0.008601      -0.063523   \n",
       "2         1     1      -0.213710       0.692250       0.045672      -0.147941   \n",
       "3         1     1      -0.375000       0.502190       0.140625      -0.188321   \n",
       "4         1     1      -0.513250       0.465640       0.263426      -0.238990   \n",
       "..      ...   ...            ...            ...            ...            ...   \n",
       "113       0     1      -0.720620       0.538740       0.519293      -0.388227   \n",
       "114       0     1      -0.593890       0.494880       0.352705      -0.293904   \n",
       "115       0     1      -0.484450       0.999270       0.234692      -0.484096   \n",
       "116       0     1      -0.006336       0.999270       0.000040      -0.006332   \n",
       "117       0     1       0.632650      -0.030612       0.400246      -0.019367   \n",
       "\n",
       "     22_polynomial  30_polynomial  31_polynomial  32_polynomial  ...  \\\n",
       "0         0.489384   1.347453e-04       0.001839       0.025089  ...   \n",
       "1         0.469143  -7.976812e-04       0.005891      -0.043509  ...   \n",
       "2         0.479210  -9.760555e-03       0.031616      -0.102412  ...   \n",
       "3         0.252195  -5.273438e-02       0.070620      -0.094573  ...   \n",
       "4         0.216821  -1.352032e-01       0.122661      -0.111283  ...   \n",
       "..             ...            ...            ...            ...  ...   \n",
       "113       0.290241  -3.742131e-01       0.279764      -0.209153  ...   \n",
       "114       0.244906  -2.094682e-01       0.174547      -0.145447  ...   \n",
       "115       0.998541  -1.136964e-01       0.234520      -0.483743  ...   \n",
       "116       0.998541  -2.544062e-07       0.000040      -0.006327  ...   \n",
       "117       0.000937   2.532156e-01      -0.012252       0.000593  ...   \n",
       "\n",
       "     53_polynomial  54_polynomial  55_polynomial  60_polynomial  \\\n",
       "0         0.000900   1.227829e-02   1.675424e-01   1.815630e-08   \n",
       "1         0.002764  -2.041205e-02   1.507518e-01   6.362953e-07   \n",
       "2         0.015151  -4.907685e-02   1.589699e-01   9.526844e-05   \n",
       "3         0.017810  -2.385083e-02   3.194040e-02   2.780914e-03   \n",
       "4         0.026596  -2.412849e-02   2.189028e-02   1.827990e-02   \n",
       "..             ...            ...            ...            ...   \n",
       "113       0.081199  -6.070482e-02   4.538330e-02   1.400354e-01   \n",
       "114       0.042748  -3.562096e-02   2.968243e-02   4.387691e-02   \n",
       "115       0.234178  -4.830370e-01   9.963553e-01   1.292688e-02   \n",
       "116       0.000040  -6.317918e-03   9.963553e-01   6.472253e-14   \n",
       "117      -0.000011   5.555592e-07  -2.688181e-08   6.411816e-02   \n",
       "\n",
       "     61_polynomial  62_polynomial  63_polynomial  64_polynomial  \\\n",
       "0     2.477505e-07   3.380660e-06   4.613055e-05   6.294709e-04   \n",
       "1    -4.699318e-06   3.470651e-05  -2.563226e-04   1.893054e-03   \n",
       "2    -3.085938e-04   9.995978e-04  -3.237900e-03   1.048821e-02   \n",
       "3    -3.724126e-03   4.987251e-03  -6.678793e-03   8.944062e-03   \n",
       "4    -1.658422e-02   1.504584e-02  -1.365016e-02   1.238395e-02   \n",
       "..             ...            ...            ...            ...   \n",
       "113  -1.046913e-01   7.826790e-02  -5.851357e-02   4.374511e-02   \n",
       "114  -3.656200e-02   3.046659e-02  -2.538737e-02   2.115493e-02   \n",
       "115  -2.666414e-02   5.499985e-02  -1.134476e-01   2.340073e-01   \n",
       "116  -1.020695e-11   1.609667e-09  -2.538495e-07   4.003286e-05   \n",
       "117  -3.102482e-03   1.501196e-04  -7.263830e-06   3.514745e-07   \n",
       "\n",
       "     65_polynomial  66_polynomial  \n",
       "0     8.589398e-03   1.172060e-01  \n",
       "1    -1.398103e-02   1.032560e-01  \n",
       "2    -3.397345e-02   1.100469e-01  \n",
       "3    -1.197765e-02   1.604015e-02  \n",
       "4    -1.123519e-02   1.019299e-02  \n",
       "..             ...            ...  \n",
       "113  -3.270412e-02   2.444980e-02  \n",
       "114  -1.762810e-02   1.468924e-02  \n",
       "115  -4.826843e-01   9.956280e-01  \n",
       "116  -6.313306e-03   9.956280e-01  \n",
       "117  -1.700678e-08   8.229060e-10  \n",
       "\n",
       "[118 rows x 29 columns]"
      ]
     },
     "execution_count": 184,
     "metadata": {},
     "output_type": "execute_result"
    }
   ],
   "source": [
    "ex2r_df_fmap"
   ]
  },
  {
   "cell_type": "code",
   "execution_count": null,
   "metadata": {},
   "outputs": [],
   "source": []
  },
  {
   "cell_type": "code",
   "execution_count": 185,
   "metadata": {},
   "outputs": [],
   "source": [
    "# Setting up parameters to copmute cost\n",
    "cols = ex2r_df_fmap.shape[1]\n",
    "\n",
    "X_reg_df = ex2r_df_fmap.iloc[:,1:cols]\n",
    "y_reg_df = ex2r_df_fmap.iloc[:,0]\n",
    "\n",
    "X_reg = np.matrix(X_reg_df)\n",
    "y_reg = np.matrix(y_reg_df)\n",
    "\n",
    "m = y_reg.shape[1]\n",
    "theta = np.zeros(X_reg.shape[1])"
   ]
  },
  {
   "cell_type": "code",
   "execution_count": null,
   "metadata": {},
   "outputs": [],
   "source": []
  },
  {
   "cell_type": "code",
   "execution_count": 199,
   "metadata": {},
   "outputs": [],
   "source": [
    "def computeCost_reg(theta, X_reg, y_reg, m, Lambda):\n",
    "    theta = np.matrix(theta)\n",
    "\n",
    "    h = sigmoid(X_reg*theta.T)\n",
    "    if_pass = -y_reg * np.log(h)\n",
    "    if_fail = (1-y_reg) * np.log(1-h)\n",
    "    \n",
    "    reg_term = Lambda * np.sum(np.power(theta[:,1:theta.shape[0]], 2))\n",
    "    \n",
    "    J = 1/m *( np.sum(if_pass - if_fail) + reg_term )\n",
    "    \n",
    "    grad = (1/m) * (h-y_reg.T).T * X_reg\n",
    "    \n",
    "    return J, grad"
   ]
  },
  {
   "cell_type": "code",
   "execution_count": 203,
   "metadata": {},
   "outputs": [
    {
     "name": "stdout",
     "output_type": "stream",
     "text": [
      "Cost function for theta=[0;0;....;0] is 0.6931471805599453\n",
      "Gradients are: \n",
      "[[8.47457627e-03 1.87880932e-02 7.77711864e-05 5.03446395e-02\n",
      "  1.15013308e-02 3.76648474e-02 1.83559872e-02 7.32393391e-03\n",
      "  8.19244468e-03 2.34764889e-02 3.93486234e-02 2.23923907e-03\n",
      "  1.28600503e-02 3.09593720e-03 3.93028171e-02 1.99707467e-02\n",
      "  4.32983232e-03 3.38643902e-03 5.83822078e-03 4.47629067e-03\n",
      "  3.10079849e-02 3.10312442e-02 1.09740238e-03 6.31570797e-03\n",
      "  4.08503006e-04 7.26504316e-03 1.37646175e-03 3.87936363e-02]]\n"
     ]
    }
   ],
   "source": [
    "J_reg, grad = computeCost_reg(theta, X_reg, y_reg, m, 1)\n",
    "print(\"Cost function for theta=[0;0;....;0] is {}\".format(J_reg))\n",
    "print(\"Gradients are: \\n{}\".format(grad))"
   ]
  },
  {
   "cell_type": "code",
   "execution_count": 207,
   "metadata": {},
   "outputs": [
    {
     "name": "stdout",
     "output_type": "stream",
     "text": [
      "Cost function for theta=[0;0;....;0] is 2.0204415350048404\n",
      "Gradients are: \n",
      "[[ 3.46045074e-01  7.66061566e-02  1.10049993e-01  1.42117020e-01\n",
      "   7.43991239e-03  1.59639814e-01  5.86463603e-02  2.36959523e-02\n",
      "   1.75686317e-02  9.87226948e-02  8.87842709e-02  2.50975573e-03\n",
      "   3.34819937e-02  1.09754196e-03  1.15203182e-01  5.04807645e-02\n",
      "   1.02295113e-02  8.81865218e-03  1.50520786e-02  6.65581097e-03\n",
      "   9.01066541e-02  6.48086550e-02  2.03989264e-03  1.42310951e-02\n",
      "   5.73747746e-04  1.71609001e-02 -2.43784101e-04  9.75374635e-02]]\n"
     ]
    }
   ],
   "source": [
    "theta2 = np.ones(X_reg.shape[1])\n",
    "J_reg2, grad2 = computeCost_reg(theta2, X_reg, y_reg, m, 10)\n",
    "\n",
    "print(\"Cost function for theta=[0;0;....;0] is {}\".format(J_reg2))\n",
    "print(\"Gradients are: \\n{}\".format(grad2))"
   ]
  },
  {
   "cell_type": "code",
   "execution_count": null,
   "metadata": {},
   "outputs": [],
   "source": []
  },
  {
   "cell_type": "code",
   "execution_count": null,
   "metadata": {},
   "outputs": [],
   "source": [
    "#Plot Decision Boundary"
   ]
  }
 ],
 "metadata": {
  "kernelspec": {
   "display_name": "Python 3",
   "language": "python",
   "name": "python3"
  },
  "language_info": {
   "codemirror_mode": {
    "name": "ipython",
    "version": 3
   },
   "file_extension": ".py",
   "mimetype": "text/x-python",
   "name": "python",
   "nbconvert_exporter": "python",
   "pygments_lexer": "ipython3",
   "version": "3.8.3"
  }
 },
 "nbformat": 4,
 "nbformat_minor": 4
}
