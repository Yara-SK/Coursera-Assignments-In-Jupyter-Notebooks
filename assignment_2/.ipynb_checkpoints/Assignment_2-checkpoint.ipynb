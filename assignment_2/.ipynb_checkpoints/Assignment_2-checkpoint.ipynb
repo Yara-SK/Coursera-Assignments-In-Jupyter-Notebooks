{
 "cells": [
  {
   "cell_type": "markdown",
   "metadata": {},
   "source": [
    "## Assignment 2\n",
    "In  this  part  of  the  exercise,  you  will  build  a  logistic  regression  model  to predict whether a student gets admitted into a university. \n",
    "\n",
    "Suppose that you are the administrator of a university department and you want to determine each applicant’s chance of admission based on their results on two exams. You  have  historical  data  from  previous  applicantsthat you can use as a training set for logistic regression.  For each training example, you have the applicant’s scores on two exams and the admissions decision.\n",
    "\n",
    "Your task is to build a classification model that estimates an applicant’s probability of admission based on the scores from those two exams."
   ]
  },
  {
   "cell_type": "code",
   "execution_count": null,
   "metadata": {},
   "outputs": [],
   "source": []
  },
  {
   "cell_type": "code",
   "execution_count": 1,
   "metadata": {},
   "outputs": [],
   "source": [
    "import numpy as np\n",
    "import pandas as pd\n",
    "import matplotlib.pyplot as plt\n",
    "import scipy.optimize as opt\n",
    "\n",
    "%matplotlib inline"
   ]
  },
  {
   "cell_type": "code",
   "execution_count": 2,
   "metadata": {},
   "outputs": [
    {
     "data": {
      "text/html": [
       "<div>\n",
       "<style scoped>\n",
       "    .dataframe tbody tr th:only-of-type {\n",
       "        vertical-align: middle;\n",
       "    }\n",
       "\n",
       "    .dataframe tbody tr th {\n",
       "        vertical-align: top;\n",
       "    }\n",
       "\n",
       "    .dataframe thead th {\n",
       "        text-align: right;\n",
       "    }\n",
       "</style>\n",
       "<table border=\"1\" class=\"dataframe\">\n",
       "  <thead>\n",
       "    <tr style=\"text-align: right;\">\n",
       "      <th></th>\n",
       "      <th>exam1</th>\n",
       "      <th>exam2</th>\n",
       "      <th>result</th>\n",
       "    </tr>\n",
       "  </thead>\n",
       "  <tbody>\n",
       "    <tr>\n",
       "      <th>0</th>\n",
       "      <td>34.623660</td>\n",
       "      <td>78.024693</td>\n",
       "      <td>0</td>\n",
       "    </tr>\n",
       "    <tr>\n",
       "      <th>1</th>\n",
       "      <td>30.286711</td>\n",
       "      <td>43.894998</td>\n",
       "      <td>0</td>\n",
       "    </tr>\n",
       "    <tr>\n",
       "      <th>2</th>\n",
       "      <td>35.847409</td>\n",
       "      <td>72.902198</td>\n",
       "      <td>0</td>\n",
       "    </tr>\n",
       "    <tr>\n",
       "      <th>3</th>\n",
       "      <td>60.182599</td>\n",
       "      <td>86.308552</td>\n",
       "      <td>1</td>\n",
       "    </tr>\n",
       "    <tr>\n",
       "      <th>4</th>\n",
       "      <td>79.032736</td>\n",
       "      <td>75.344376</td>\n",
       "      <td>1</td>\n",
       "    </tr>\n",
       "  </tbody>\n",
       "</table>\n",
       "</div>"
      ],
      "text/plain": [
       "       exam1      exam2  result\n",
       "0  34.623660  78.024693       0\n",
       "1  30.286711  43.894998       0\n",
       "2  35.847409  72.902198       0\n",
       "3  60.182599  86.308552       1\n",
       "4  79.032736  75.344376       1"
      ]
     },
     "execution_count": 2,
     "metadata": {},
     "output_type": "execute_result"
    }
   ],
   "source": [
    "# Loading Data\n",
    "ex2_df = pd.read_csv('ex2data1.txt')\n",
    "ex2_df.head()"
   ]
  },
  {
   "cell_type": "code",
   "execution_count": 3,
   "metadata": {},
   "outputs": [
    {
     "data": {
      "image/png": "[encoded data removed]",
      "text/plain": [
       "<Figure size 648x648 with 1 Axes>"
      ]
     },
     "metadata": {
      "needs_background": "light"
     },
     "output_type": "display_data"
    }
   ],
   "source": [
    "# Data visualisation\n",
    "passed = ex2_df[ex2_df['result'].isin([1])]\n",
    "failed = ex2_df[ex2_df['result'].isin([0])]\n",
    "\n",
    "fig, ax = plt.subplots(figsize=(9,9))\n",
    "\n",
    "ax.scatter(passed['exam1'], passed['exam2'], marker='+', c='k', lw=2, label='passed')\n",
    "ax.scatter(failed['exam1'], failed['exam2'], marker='o', c='crimson', label='failed')\n",
    "ax.set_xlabel('exam1 score')\n",
    "ax.set_ylabel('exam2 score')\n",
    "ax.set_title('Admission Results By The Scores of 2 Exams')\n",
    "ax.legend(loc=1)\n",
    "\n",
    "plt.show()"
   ]
  },
  {
   "cell_type": "code",
   "execution_count": null,
   "metadata": {},
   "outputs": [],
   "source": []
  },
  {
   "cell_type": "code",
   "execution_count": 11,
   "metadata": {},
   "outputs": [
    {
     "data": {
      "text/html": [
       "<div>\n",
       "<style scoped>\n",
       "    .dataframe tbody tr th:only-of-type {\n",
       "        vertical-align: middle;\n",
       "    }\n",
       "\n",
       "    .dataframe tbody tr th {\n",
       "        vertical-align: top;\n",
       "    }\n",
       "\n",
       "    .dataframe thead th {\n",
       "        text-align: right;\n",
       "    }\n",
       "</style>\n",
       "<table border=\"1\" class=\"dataframe\">\n",
       "  <thead>\n",
       "    <tr style=\"text-align: right;\">\n",
       "      <th></th>\n",
       "      <th>ones</th>\n",
       "      <th>exam1</th>\n",
       "      <th>exam2</th>\n",
       "      <th>result</th>\n",
       "    </tr>\n",
       "  </thead>\n",
       "  <tbody>\n",
       "    <tr>\n",
       "      <th>0</th>\n",
       "      <td>1</td>\n",
       "      <td>34.623660</td>\n",
       "      <td>78.024693</td>\n",
       "      <td>0</td>\n",
       "    </tr>\n",
       "    <tr>\n",
       "      <th>1</th>\n",
       "      <td>1</td>\n",
       "      <td>30.286711</td>\n",
       "      <td>43.894998</td>\n",
       "      <td>0</td>\n",
       "    </tr>\n",
       "    <tr>\n",
       "      <th>2</th>\n",
       "      <td>1</td>\n",
       "      <td>35.847409</td>\n",
       "      <td>72.902198</td>\n",
       "      <td>0</td>\n",
       "    </tr>\n",
       "    <tr>\n",
       "      <th>3</th>\n",
       "      <td>1</td>\n",
       "      <td>60.182599</td>\n",
       "      <td>86.308552</td>\n",
       "      <td>1</td>\n",
       "    </tr>\n",
       "    <tr>\n",
       "      <th>4</th>\n",
       "      <td>1</td>\n",
       "      <td>79.032736</td>\n",
       "      <td>75.344376</td>\n",
       "      <td>1</td>\n",
       "    </tr>\n",
       "  </tbody>\n",
       "</table>\n",
       "</div>"
      ],
      "text/plain": [
       "   ones      exam1      exam2  result\n",
       "0     1  34.623660  78.024693       0\n",
       "1     1  30.286711  43.894998       0\n",
       "2     1  35.847409  72.902198       0\n",
       "3     1  60.182599  86.308552       1\n",
       "4     1  79.032736  75.344376       1"
      ]
     },
     "execution_count": 11,
     "metadata": {},
     "output_type": "execute_result"
    }
   ],
   "source": [
    "# Adding a column of 1's\n",
    "ex2_df.insert(0,'ones',1)\n",
    "ex2_df.head()"
   ]
  },
  {
   "cell_type": "code",
   "execution_count": 12,
   "metadata": {},
   "outputs": [],
   "source": [
    "X_df = ex2_df.iloc[:,:-1]\n",
    "y_df = ex2_df.iloc[:,-1]\n",
    "\n",
    "m, n = X_df.shape\n",
    "theta = np.zeros((n,1))"
   ]
  },
  {
   "cell_type": "code",
   "execution_count": 15,
   "metadata": {},
   "outputs": [],
   "source": [
    "X = np.array(X_df)\n",
    "y = np.array(y_df).reshape(100,1)\n",
    "\n",
    "#print(\"X has the shape {}\\nY has the shape{}\\nInitial theta has the shape {}\".format(X.shape, y.shape))"
   ]
  },
  {
   "cell_type": "code",
   "execution_count": 16,
   "metadata": {},
   "outputs": [
    {
     "data": {
      "text/plain": [
       "((100, 3), (100, 1))"
      ]
     },
     "execution_count": 16,
     "metadata": {},
     "output_type": "execute_result"
    }
   ],
   "source": [
    "X.shape, y.shape"
   ]
  },
  {
   "cell_type": "code",
   "execution_count": null,
   "metadata": {},
   "outputs": [],
   "source": []
  },
  {
   "cell_type": "code",
   "execution_count": 18,
   "metadata": {},
   "outputs": [],
   "source": [
    "def sigmoid(z):\n",
    "    return 1 / (1 + np.exp(-z))"
   ]
  },
  {
   "cell_type": "code",
   "execution_count": 36,
   "metadata": {},
   "outputs": [],
   "source": [
    "def computeCost(theta, X, y):\n",
    "    #theta = np.matrix(theta)\n",
    "\n",
    "    h = sigmoid(X@theta)\n",
    "    if_pass = np.multiply(-y, np.log(h)) #if y=1, this cost function is applied, and the other = 1-1 =0\n",
    "    if_fail = np.multiply((1-y), np.log(1-h)) #if y=0, this cost function is applied\n",
    "    \n",
    "    J = 1/m * np.sum(if_pass - if_fail)\n",
    "    \n",
    "    #grad = (1/m) * np.dot((h-y).T, X)\n",
    "    \n",
    "    return J #, grad"
   ]
  },
  {
   "cell_type": "code",
   "execution_count": 37,
   "metadata": {},
   "outputs": [],
   "source": [
    "def computeGradients(theta, X, y):\n",
    "    grad = (1/m) *  X.T @ (sigmoid(X @ theta) - y)\n",
    "    return grad"
   ]
  },
  {
   "cell_type": "code",
   "execution_count": 38,
   "metadata": {},
   "outputs": [],
   "source": [
    "def gradient(theta, X, y):\n",
    "    return ((1/m) * X.T @ (sigmoid(X @ theta) - y))"
   ]
  },
  {
   "cell_type": "code",
   "execution_count": null,
   "metadata": {},
   "outputs": [],
   "source": []
  },
  {
   "cell_type": "code",
   "execution_count": 22,
   "metadata": {},
   "outputs": [
    {
     "name": "stdout",
     "output_type": "stream",
     "text": [
      "Cost function for theta=[[0;0;0]] is 0.6931471805599453\n",
      "Gradients are [array([-0.1]), array([-12.00921659]), array([-11.26284221])]\n"
     ]
    }
   ],
   "source": [
    "# Check to see if cost function is working\n",
    "J = computeCost(theta, X, y)\n",
    "grad = computeGradients(theta, X, y)\n",
    "\n",
    "print(\"Cost function for theta=[[0;0;0]] is {}\".format(J))\n",
    "print(\"Gradients are {}\".format([i for i in grad]))"
   ]
  },
  {
   "cell_type": "code",
   "execution_count": 23,
   "metadata": {},
   "outputs": [
    {
     "name": "stdout",
     "output_type": "stream",
     "text": [
      "Cost function for theta=[-24;0.2;0.2] is 0.21833019382659785\n",
      "Gradients are [array([0.04290299]), array([2.56623412]), array([2.64679737])]\n"
     ]
    }
   ],
   "source": [
    "test_theta = np.array((-24, 0.2, 0.2)).reshape(3,1)\n",
    "\n",
    "J2 = computeCost(test_theta, X, y)\n",
    "grad2 = computeGradients(test_theta, X, y)\n",
    "\n",
    "print(\"Cost function for theta=[-24;0.2;0.2] is {}\".format(J2))\n",
    "print(\"Gradients are {}\".format([i for i in grad2]))"
   ]
  },
  {
   "cell_type": "code",
   "execution_count": null,
   "metadata": {},
   "outputs": [],
   "source": []
  },
  {
   "cell_type": "code",
   "execution_count": null,
   "metadata": {},
   "outputs": [],
   "source": []
  },
  {
   "cell_type": "code",
   "execution_count": 24,
   "metadata": {},
   "outputs": [],
   "source": [
    "# Minimize a function using truncated Newton Algorithm from Scipy\n",
    "# https://docs.scipy.org/doc/scipy/reference/generated/scipy.optimize.fmin_tnc.html#scipy.optimize.fmin_tnc\n",
    "\n",
    "optimize = opt.fmin_tnc(func = computeCost, \n",
    "                    x0 = theta.flatten(),fprime = computeGradients, \n",
    "                    args = (X, y.flatten()))\n",
    "\n",
    "theta_opt = optimize[0].reshape(3,1)\n",
    "eval_num = optimize[1]\n",
    "\n",
    "J_opt = computeCost(theta_opt, X, y)"
   ]
  },
  {
   "cell_type": "code",
   "execution_count": 28,
   "metadata": {},
   "outputs": [
    {
     "name": "stdout",
     "output_type": "stream",
     "text": [
      "Theta after 36 evaluations reached local minima at: [-25.161318538903654, 0.20623158789768659, 0.20147148543323753]\n",
      "Cost function after optimization: 0.20349770158947494\n"
     ]
    }
   ],
   "source": [
    "print('Theta after {} evaluations reached local minima at: {}'.format(eval_num, [float(i) for i in theta_opt]))\n",
    "print('Cost function after optimization: {}'.format(J_opt))"
   ]
  },
  {
   "cell_type": "code",
   "execution_count": null,
   "metadata": {},
   "outputs": [],
   "source": []
  },
  {
   "cell_type": "code",
   "execution_count": 29,
   "metadata": {},
   "outputs": [
    {
     "data": {
      "image/png": "[encoded data removed]",
      "text/plain": [
       "<Figure size 648x648 with 1 Axes>"
      ]
     },
     "metadata": {
      "needs_background": "light"
     },
     "output_type": "display_data"
    }
   ],
   "source": [
    "# Decision Boundary Graph\n",
    "fig, ax = plt.subplots(figsize=(9,9))\n",
    "\n",
    "#decision boundary x and y axis\n",
    "xx = np.linspace(20,110,1100)\n",
    "yy = (-theta_opt[0] - theta_opt[1]*xx)/theta_opt[2]\n",
    "\n",
    "ax.set_xlim([28,105])\n",
    "ax.set_ylim([28,105])\n",
    "\n",
    "#plot decision boundary\n",
    "plt.plot(xx, yy, '--m', label='Decision Boundary')\n",
    "\n",
    "ax.scatter(passed['exam1'], passed['exam2'], marker='+', c='k', lw=2, label='passed')\n",
    "ax.scatter(failed['exam1'], failed['exam2'], marker='o', c='crimson', label='failed')\n",
    "ax.set_xlabel('exam1 score')\n",
    "ax.set_ylabel('exam2 score')\n",
    "ax.set_title('Admission Results By The Scores of 2 Exams')\n",
    "ax.legend(loc=1)\n",
    "\n",
    "plt.show()"
   ]
  },
  {
   "cell_type": "code",
   "execution_count": null,
   "metadata": {},
   "outputs": [],
   "source": []
  },
  {
   "cell_type": "code",
   "execution_count": 30,
   "metadata": {},
   "outputs": [],
   "source": [
    "# Function that decides if student is admitted or not\n",
    "def pass_fail(X, theta):\n",
    "    prob = float(sigmoid(X@theta))\n",
    "    \n",
    "    if prob >= 0.5:\n",
    "        return 1\n",
    "    else:\n",
    "        return 0"
   ]
  },
  {
   "cell_type": "code",
   "execution_count": 31,
   "metadata": {},
   "outputs": [],
   "source": [
    "# Prediction\n",
    "def prediction(theta, X):\n",
    "    X_pred_list = []\n",
    "    rows = 0\n",
    "    \n",
    "    for i in X:\n",
    "        X_pred_list.append(pass_fail(i,theta))\n",
    "        rows += 1\n",
    "        \n",
    "    X_pred = np.array(X_pred_list).reshape(rows,1)\n",
    "    \n",
    "    return X_pred"
   ]
  },
  {
   "cell_type": "code",
   "execution_count": 32,
   "metadata": {},
   "outputs": [],
   "source": [
    "# Count Accuracy\n",
    "def accuracy(predictions, y):\n",
    "    total = 0 \n",
    "    \n",
    "    for i in range(len(predictions)):\n",
    "        if int(predictions[i]) == int(y[i]):\n",
    "            total += 1\n",
    "            \n",
    "    return total/len(y)"
   ]
  },
  {
   "cell_type": "code",
   "execution_count": 33,
   "metadata": {},
   "outputs": [
    {
     "name": "stdout",
     "output_type": "stream",
     "text": [
      "The total accuracy of our predictions is: 89.0%\n"
     ]
    }
   ],
   "source": [
    "predictions = prediction(theta_opt, X)\n",
    "acc = accuracy(predictions, y.flatten())\n",
    "\n",
    "print('The total accuracy of our predictions is: {}%'.format(acc*100))"
   ]
  },
  {
   "cell_type": "code",
   "execution_count": null,
   "metadata": {},
   "outputs": [],
   "source": []
  },
  {
   "cell_type": "code",
   "execution_count": null,
   "metadata": {},
   "outputs": [],
   "source": []
  },
  {
   "cell_type": "code",
   "execution_count": null,
   "metadata": {},
   "outputs": [],
   "source": []
  },
  {
   "cell_type": "markdown",
   "metadata": {},
   "source": [
    "## Regularized Logistic Regression\n",
    "\n",
    "In this part of the exercise, you will implement regularized logistic regression to predict whether microchips from a fabrication plant passes quality assurance (QA). During QA, each microchip goes through various tests to ensure it is functioning correctly.\n",
    "\n",
    "Suppose you are the product manager of the factory and you have the test results for some microchips on two different tests. From these two tests, you would like to determine whether the microchips should be accepted or rejected. To help you make the decision, you have a dataset of test results on past microchips, from which you can build a logistic regression model."
   ]
  },
  {
   "cell_type": "code",
   "execution_count": null,
   "metadata": {},
   "outputs": [],
   "source": [
    "ex2r_df = pd.read_csv('ex2data2.txt')\n",
    "ex2r_df.head()"
   ]
  },
  {
   "cell_type": "code",
   "execution_count": null,
   "metadata": {},
   "outputs": [],
   "source": [
    "# Data visualisation\n",
    "passed_2 = ex2r_df[ex2r_df['result'].isin([1])]\n",
    "failed_2 = ex2r_df[ex2r_df['result'].isin([0])]\n",
    "\n",
    "fig, ax = plt.subplots(figsize=(9,9))\n",
    "\n",
    "ax.scatter(passed_2['test1'], passed_2['test2'], marker='+', c='k', lw=2, label='passed')\n",
    "ax.scatter(failed_2['test1'], failed_2['test2'], marker='o', c='crimson', label='failed')\n",
    "ax.set_xlabel('test1 score')\n",
    "ax.set_ylabel('test2 score')\n",
    "ax.set_title('Acceptance Results By Conclusions of 2 Tests')\n",
    "ax.legend(loc=1)\n",
    "\n",
    "plt.show()"
   ]
  },
  {
   "cell_type": "code",
   "execution_count": null,
   "metadata": {},
   "outputs": [],
   "source": []
  },
  {
   "cell_type": "code",
   "execution_count": null,
   "metadata": {},
   "outputs": [],
   "source": [
    "# Feature Mapping\n",
    "def mapFeatures(X1, X2, degree):\n",
    "    # Make a copy\n",
    "    ex2r_df_fmap = ex2r_df.copy()\n",
    "    \n",
    "    for i in range(1, degree+1):\n",
    "        for j in range(0, i+1):\n",
    "            ex2r_df_fmap[str(i)+str(j)+'_polynomial'] = np.power(X1, i-j) * np.power(X2, j)  \n",
    "\n",
    "    ex2r_df_fmap.drop('test1', axis=1, inplace=True)\n",
    "    ex2r_df_fmap.drop('test2', axis=1, inplace=True)\n",
    "    ex2r_df_fmap.insert(1,'ones',1)\n",
    "    \n",
    "    return ex2r_df_fmap"
   ]
  },
  {
   "cell_type": "code",
   "execution_count": null,
   "metadata": {},
   "outputs": [],
   "source": []
  },
  {
   "cell_type": "code",
   "execution_count": null,
   "metadata": {},
   "outputs": [],
   "source": [
    "# Parameters for Feature Mapping\n",
    "degree = 6\n",
    "X1 = ex2r_df['test1']\n",
    "X2 = ex2r_df['test2']\n",
    "\n",
    "ex2r_df_fmap = mapFeatures(X1, X2, degree)"
   ]
  },
  {
   "cell_type": "code",
   "execution_count": null,
   "metadata": {},
   "outputs": [],
   "source": [
    "ex2r_df_fmap"
   ]
  },
  {
   "cell_type": "code",
   "execution_count": null,
   "metadata": {},
   "outputs": [],
   "source": []
  },
  {
   "cell_type": "code",
   "execution_count": null,
   "metadata": {},
   "outputs": [],
   "source": [
    "# Setting up parameters to copmute cost\n",
    "cols = ex2r_df_fmap.shape[1]\n",
    "\n",
    "X_reg_df = ex2r_df_fmap.iloc[:,1:cols]\n",
    "y_reg_df = ex2r_df_fmap.iloc[:,0]\n",
    "\n",
    "X_reg = np.matrix(X_reg_df)\n",
    "y_reg = np.matrix(y_reg_df)\n",
    "\n",
    "m = y_reg.shape[1]\n",
    "theta = np.zeros(X_reg.shape[1])"
   ]
  },
  {
   "cell_type": "code",
   "execution_count": null,
   "metadata": {},
   "outputs": [],
   "source": []
  },
  {
   "cell_type": "code",
   "execution_count": null,
   "metadata": {},
   "outputs": [],
   "source": [
    "def computeCost_reg(theta, X_reg, y_reg, m, Lambda):\n",
    "    theta = np.matrix(theta)\n",
    "\n",
    "    h = sigmoid(X_reg*theta.T)\n",
    "    if_pass = -y_reg * np.log(h)\n",
    "    if_fail = (1-y_reg) * np.log(1-h)\n",
    "    \n",
    "    reg_term = Lambda * np.sum(np.power(theta[:,1:theta.shape[0]], 2))\n",
    "    \n",
    "    J = 1/m *( np.sum(if_pass - if_fail) + reg_term )\n",
    "    \n",
    "    grad = (1/m) * (h-y_reg.T).T * X_reg\n",
    "    \n",
    "    return J, grad"
   ]
  },
  {
   "cell_type": "code",
   "execution_count": null,
   "metadata": {},
   "outputs": [],
   "source": [
    "J_reg, grad = computeCost_reg(theta, X_reg, y_reg, m, 1)\n",
    "print(\"Cost function for theta=[0;0;....;0] is {}\".format(J_reg))\n",
    "print(\"Gradients are: \\n{}\".format(grad))"
   ]
  },
  {
   "cell_type": "code",
   "execution_count": null,
   "metadata": {},
   "outputs": [],
   "source": [
    "theta2 = np.ones(X_reg.shape[1])\n",
    "J_reg2, grad2 = computeCost_reg(theta2, X_reg, y_reg, m, 10)\n",
    "\n",
    "print(\"Cost function for theta=[0;0;....;0] is {}\".format(J_reg2))\n",
    "print(\"Gradients are: \\n{}\".format(grad2))"
   ]
  },
  {
   "cell_type": "code",
   "execution_count": null,
   "metadata": {},
   "outputs": [],
   "source": []
  },
  {
   "cell_type": "code",
   "execution_count": null,
   "metadata": {},
   "outputs": [],
   "source": [
    "# Optimize gradients\n",
    "optimize_reg = opt.fmin_tnc(func=computeCost_reg, x0=theta, args=(X_reg, y_reg, m, 1))\n",
    "theta_reg_opt = optimize_reg[0]\n",
    "eval_reg_num = optimize_reg[1]\n",
    "J_reg_opt, grad_reg = computeCost_reg(theta_reg_opt, X_reg, y_reg, m, 1)"
   ]
  },
  {
   "cell_type": "code",
   "execution_count": null,
   "metadata": {},
   "outputs": [],
   "source": [
    "print('Theta after {} evaluations reached local minima at: \\n{}'.format(eval_reg_num, theta_reg_opt))\n",
    "print('Cost function after optimization: {}'.format(J_reg_opt))"
   ]
  },
  {
   "cell_type": "code",
   "execution_count": null,
   "metadata": {},
   "outputs": [],
   "source": []
  },
  {
   "cell_type": "code",
   "execution_count": null,
   "metadata": {},
   "outputs": [],
   "source": [
    "#Plot Decision Boundary\n",
    "passed_reg = ex2r_df_fmap[ex2r_df_fmap['result'].isin([1])]\n",
    "failed_reg = ex2r_df_fmap[ex2r_df_fmap['result'].isin([0])]\n",
    "\n",
    "fig_reg, ax_reg = plt.subplots(figsize=(9,9))\n",
    "\n",
    "ax_reg.scatter(passed_reg['10_polynomial'], passed_reg['11_polynomial'], marker='+', c='k', lw=2, label='passed')\n",
    "ax_reg.scatter(failed_reg['10_polynomial'], failed_reg['11_polynomial'], marker='o', c='crimson', label='failed')\n",
    "ax_reg.set_xlabel('test1 score')\n",
    "ax_reg.set_ylabel('test2 score')\n",
    "ax_reg.set_title('Acceptance Results By Conclusions of 2 Tests')\n",
    "ax_reg.legend(loc=1)\n",
    "\n",
    "plt.show()"
   ]
  },
  {
   "cell_type": "code",
   "execution_count": null,
   "metadata": {},
   "outputs": [],
   "source": []
  },
  {
   "cell_type": "code",
   "execution_count": null,
   "metadata": {},
   "outputs": [],
   "source": [
    "xr = np.linspace(-1,1.5, 50)\n",
    "yr = np.linspace(-1,1.5, 50)\n",
    "\n",
    "z = np.zeros(len(xr)*len(yr)).reshape(len(xr),len(yr))\n",
    "xr.shape, yr.shape, z.shape"
   ]
  },
  {
   "cell_type": "code",
   "execution_count": null,
   "metadata": {},
   "outputs": [],
   "source": [
    "# count = 0\n",
    "# for i in range(0,len(xr)):\n",
    "#     for j in range(0,len(yr)):\n",
    "#         z[i,j] = mapFeatures(xr[i],yr[j], 6) * theta\n",
    "#         count += 1\n",
    "        \n",
    "# count"
   ]
  },
  {
   "cell_type": "code",
   "execution_count": null,
   "metadata": {},
   "outputs": [],
   "source": []
  }
 ],
 "metadata": {
  "kernelspec": {
   "display_name": "Python 3",
   "language": "python",
   "name": "python3"
  },
  "language_info": {
   "codemirror_mode": {
    "name": "ipython",
    "version": 3
   },
   "file_extension": ".py",
   "mimetype": "text/x-python",
   "name": "python",
   "nbconvert_exporter": "python",
   "pygments_lexer": "ipython3",
   "version": "3.8.3"
  }
 },
 "nbformat": 4,
 "nbformat_minor": 4
}
