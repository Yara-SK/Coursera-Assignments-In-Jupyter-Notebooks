{
 "cells": [
  {
   "cell_type": "code",
   "execution_count": 1,
   "metadata": {},
   "outputs": [],
   "source": [
    "import numpy as np\n",
    "import matplotlib\n",
    "from matplotlib import pyplot as plt\n",
    "import scipy\n",
    "from sklearn import svm"
   ]
  },
  {
   "cell_type": "code",
   "execution_count": null,
   "metadata": {},
   "outputs": [],
   "source": []
  },
  {
   "cell_type": "code",
   "execution_count": 14,
   "metadata": {},
   "outputs": [],
   "source": [
    "# Setting up random points on the coordinate system\n",
    "\n",
    "#x1\n",
    "mu_vec1 = np.array([0,0])\n",
    "cov_mat1 = np.array([[2,0],[0,2]])\n",
    "x1_samples = np.random.multivariate_normal(mu_vec1, cov_mat1, 100)\n",
    "mu_vec1 = mu_vec1.reshape(1,2).T # to 1-col vector\n",
    "\n",
    "#x2\n",
    "mu_vec2 = np.array([1,2])\n",
    "cov_mat2 = np.array([[1,0],[0,1]])\n",
    "x2_samples = np.random.multivariate_normal(mu_vec2, cov_mat2, 100)\n",
    "mu_vec2 = mu_vec2.reshape(1,2).T"
   ]
  },
  {
   "cell_type": "code",
   "execution_count": null,
   "metadata": {},
   "outputs": [],
   "source": []
  },
  {
   "cell_type": "code",
   "execution_count": 27,
   "metadata": {},
   "outputs": [
    {
     "data": {
      "text/plain": [
       "[<matplotlib.lines.Line2D at 0x1ad2c5a6550>]"
      ]
     },
     "execution_count": 27,
     "metadata": {},
     "output_type": "execute_result"
    },
    {
     "data": {
      "image/png": "[encoded data removed]",
      "text/plain": [
       "<Figure size 432x288 with 1 Axes>"
      ]
     },
     "metadata": {
      "needs_background": "light"
     },
     "output_type": "display_data"
    }
   ],
   "source": [
    "fig = plt.figure()\n",
    "\n",
    "plt.scatter(x1_samples[:,0],x1_samples[:,1], marker='+')\n",
    "plt.scatter(x2_samples[:,0],x2_samples[:,1], c= 'green', marker='o')\n",
    "\n",
    "X = np.concatenate((x1_samples,x2_samples), axis = 0)\n",
    "Y = np.array([0]*100 + [1]*100)\n",
    "\n",
    "C = 1.0  # SVM regularization parameter\n",
    "clf = svm.SVC(kernel = 'linear',  gamma=0.7, C=C )\n",
    "clf.fit(X, Y)\n",
    "\n",
    "w = clf.coef_[0]\n",
    "a = -w[0] / w[1]\n",
    "xx = np.linspace(-5, 5)\n",
    "yy = a * xx - (clf.intercept_[0]) / w[1]\n",
    "\n",
    "plt.plot(xx, yy, 'k-')"
   ]
  },
  {
   "cell_type": "code",
   "execution_count": null,
   "metadata": {},
   "outputs": [],
   "source": []
  },
  {
   "cell_type": "code",
   "execution_count": null,
   "metadata": {},
   "outputs": [],
   "source": []
  },
  {
   "cell_type": "code",
   "execution_count": 38,
   "metadata": {},
   "outputs": [],
   "source": [
    "import pandas as pd\n",
    "import numpy as np\n",
    "import matplotlib.pyplot as plt\n",
    "import seaborn as sns\n",
    "%matplotlib inline"
   ]
  },
  {
   "cell_type": "code",
   "execution_count": null,
   "metadata": {},
   "outputs": [],
   "source": []
  },
  {
   "cell_type": "code",
   "execution_count": 39,
   "metadata": {},
   "outputs": [],
   "source": [
    "data =pd.read_csv('ex2data1.txt',header=None)\n",
    "X = data.values[:,:2]  #(100,2)\n",
    "y = data.values[:,2:3] #(100,1)"
   ]
  },
  {
   "cell_type": "code",
   "execution_count": null,
   "metadata": {},
   "outputs": [],
   "source": []
  },
  {
   "cell_type": "code",
   "execution_count": 41,
   "metadata": {},
   "outputs": [
    {
     "data": {
      "text/plain": [
       "(101, 2)"
      ]
     },
     "execution_count": 41,
     "metadata": {},
     "output_type": "execute_result"
    }
   ],
   "source": [
    "X.shape"
   ]
  },
  {
   "cell_type": "code",
   "execution_count": 42,
   "metadata": {},
   "outputs": [
    {
     "data": {
      "image/png": "[encoded data removed]",
      "text/plain": [
       "<Figure size 432x288 with 1 Axes>"
      ]
     },
     "metadata": {
      "needs_background": "light"
     },
     "output_type": "display_data"
    }
   ],
   "source": [
    "#%% ==================== Part 1: Plotting ====================\n",
    "postive_value = data.loc[data[2] == 1]\n",
    "#print(postive_value.values[:,2:3])\n",
    "negative_value = data.loc[data[2] == 0]\n",
    "#print(len(postive_value))\n",
    "#print(len(negative_value))\n",
    "ax1 = postive_value.plot(kind='scatter',x=0,y=1,s=50,color='b',marker=\"+\",label=\"Admitted\") # S is line width #https://matplotlib.org/api/_as_gen/matplotlib.axes.Axes.scatter.html#matplotlib.axes.Axes.scatter \n",
    "ax2 = negative_value.plot(kind='scatter',x=0,y=1,s=50,color='y',ax=ax1,label=\"Not Admitted\")\n",
    "ax1.set_xlabel(\"Exam 1 score\")\n",
    "ax2.set_ylabel(\"Exam 2 score\")\n",
    "plt.show()\n",
    "#print(ax1 == ax2)\n",
    "#print(np.shape(X))"
   ]
  },
  {
   "cell_type": "code",
   "execution_count": 43,
   "metadata": {},
   "outputs": [
    {
     "name": "stdout",
     "output_type": "stream",
     "text": [
      "101 2\n",
      "[0 0 0]\n"
     ]
    }
   ],
   "source": [
    "#============ Part 2: Compute Cost and Gradient ===========\n",
    "[m,n] = np.shape(X) #(100,2)\n",
    "print(m,n)\n",
    "additional_coulmn = np.ones((m,1))\n",
    "X = np.append(additional_coulmn,X,axis=1)\n",
    "initial_theta = np.zeros((n+1), dtype=int)\n",
    "print(initial_theta)\n",
    "\n",
    "# In4\n",
    "#Sigmoid and cost function\n",
    "def sigmoid(z):\n",
    "    g = np.zeros(np.shape(z));\n",
    "    g = 1/(1+np.exp(-z));\n",
    "    return g\n",
    "def costFunction(theta, X, y):\n",
    "    J = 0;\n",
    "    #print(theta)\n",
    "    receive_theta = np.array(theta)[np.newaxis] ##This command is used to create the 1D array \n",
    "    #print(receive_theta)\n",
    "    theta = np.transpose(receive_theta)\n",
    "    #print(np.shape(theta))       \n",
    "    #grad = np.zeros(np.shape(theta))\n",
    "    z = np.dot(X,theta) # where z = theta*X\n",
    "    #print(z)\n",
    "    h = sigmoid(z) #formula h(x) = g(z) whether g = 1/1+e(-z) #(100,1)\n",
    "    #print(np.shape(h))\n",
    "    #J = np.sum(((-y)*np.log(h)-(1-y)*np.log(1-h))/m); \n",
    "    J = np.sum(np.dot((-y.T),np.log(h))-np.dot((1-y).T,np.log(1-h)))/m\n",
    "    #J = (-y * np.log(h) - (1 - y) * np.log(1 - h)).mean()\n",
    "     #error = h-y\n",
    "    #print(np.shape(error))\n",
    "    #print(np.shape(X))\n",
    "    grad =np.dot(X.T,(h-y))/m\n",
    "    #print(grad)\n",
    "    return J,grad\n"
   ]
  },
  {
   "cell_type": "code",
   "execution_count": null,
   "metadata": {},
   "outputs": [],
   "source": []
  },
  {
   "cell_type": "code",
   "execution_count": 44,
   "metadata": {},
   "outputs": [
    {
     "ename": "NameError",
     "evalue": "name 'J' is not defined",
     "output_type": "error",
     "traceback": [
      "\u001b[1;31m---------------------------------------------------------------------------\u001b[0m",
      "\u001b[1;31mNameError\u001b[0m                                 Traceback (most recent call last)",
      "\u001b[1;32m<ipython-input-44-11d7d7ce0b68>\u001b[0m in \u001b[0;36m<module>\u001b[1;34m\u001b[0m\n\u001b[1;32m----> 1\u001b[1;33m \u001b[0mJ\u001b[0m\u001b[1;33m\u001b[0m\u001b[1;33m\u001b[0m\u001b[0m\n\u001b[0m",
      "\u001b[1;31mNameError\u001b[0m: name 'J' is not defined"
     ]
    }
   ],
   "source": [
    "J = cost()"
   ]
  },
  {
   "cell_type": "code",
   "execution_count": null,
   "metadata": {},
   "outputs": [],
   "source": []
  },
  {
   "cell_type": "code",
   "execution_count": null,
   "metadata": {},
   "outputs": [],
   "source": [
    "#In5\n",
    "[cost, grad] = costFunction(initial_theta, X, y)\n",
    "print('Cost at initial theta (zeros):', cost)\n",
    "print('Expected cost (approx): 0.693\\n')\n",
    "print('Gradient at initial theta (zeros): \\n',grad)\n",
    "print('Expected gradients (approx):\\n -0.1000\\n -12.0092\\n -11.2628\\n')"
   ]
  },
  {
   "cell_type": "code",
   "execution_count": null,
   "metadata": {},
   "outputs": [],
   "source": []
  },
  {
   "cell_type": "code",
   "execution_count": null,
   "metadata": {},
   "outputs": [],
   "source": []
  }
 ],
 "metadata": {
  "kernelspec": {
   "display_name": "Python 3",
   "language": "python",
   "name": "python3"
  },
  "language_info": {
   "codemirror_mode": {
    "name": "ipython",
    "version": 3
   },
   "file_extension": ".py",
   "mimetype": "text/x-python",
   "name": "python",
   "nbconvert_exporter": "python",
   "pygments_lexer": "ipython3",
   "version": "3.8.3"
  }
 },
 "nbformat": 4,
 "nbformat_minor": 4
}
