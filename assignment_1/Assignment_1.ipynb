{
 "cells": [
  {
   "cell_type": "markdown",
   "metadata": {},
   "source": [
    "## Linear Regression With One Variable\n",
    "In this part of this exercise,  you will implement linear regression with one variable to predict profits for a food truck. Suppose you are the CEO of a restaurant  franchise  and  are  considering  different  cities  for  opening  a  new outlet. The chain already has trucks in various cities and you have data for profits and populations from the cities.You would like to use this data to help you select which city to expand to next. \n",
    "\n",
    "The file ex1data1.txt contains the dataset for our linear regression problem. The first column is the population of a city and the second column is the profit of a food truck in that city. A negative value for profit indicates a loss."
   ]
  },
  {
   "cell_type": "code",
   "execution_count": 1,
   "metadata": {},
   "outputs": [],
   "source": [
    "import numpy as np\n",
    "import pandas as pd\n",
    "import matplotlib.pyplot as plt\n",
    "%matplotlib inline"
   ]
  },
  {
   "cell_type": "code",
   "execution_count": 2,
   "metadata": {},
   "outputs": [
    {
     "data": {
      "text/html": [
       "<div>\n",
       "<style scoped>\n",
       "    .dataframe tbody tr th:only-of-type {\n",
       "        vertical-align: middle;\n",
       "    }\n",
       "\n",
       "    .dataframe tbody tr th {\n",
       "        vertical-align: top;\n",
       "    }\n",
       "\n",
       "    .dataframe thead th {\n",
       "        text-align: right;\n",
       "    }\n",
       "</style>\n",
       "<table border=\"1\" class=\"dataframe\">\n",
       "  <thead>\n",
       "    <tr style=\"text-align: right;\">\n",
       "      <th></th>\n",
       "      <th>population</th>\n",
       "      <th>profit</th>\n",
       "    </tr>\n",
       "  </thead>\n",
       "  <tbody>\n",
       "    <tr>\n",
       "      <th>0</th>\n",
       "      <td>6.1101</td>\n",
       "      <td>17.59200</td>\n",
       "    </tr>\n",
       "    <tr>\n",
       "      <th>1</th>\n",
       "      <td>5.5277</td>\n",
       "      <td>9.13020</td>\n",
       "    </tr>\n",
       "    <tr>\n",
       "      <th>2</th>\n",
       "      <td>8.5186</td>\n",
       "      <td>13.66200</td>\n",
       "    </tr>\n",
       "    <tr>\n",
       "      <th>3</th>\n",
       "      <td>7.0032</td>\n",
       "      <td>11.85400</td>\n",
       "    </tr>\n",
       "    <tr>\n",
       "      <th>4</th>\n",
       "      <td>5.8598</td>\n",
       "      <td>6.82330</td>\n",
       "    </tr>\n",
       "    <tr>\n",
       "      <th>...</th>\n",
       "      <td>...</td>\n",
       "      <td>...</td>\n",
       "    </tr>\n",
       "    <tr>\n",
       "      <th>92</th>\n",
       "      <td>5.8707</td>\n",
       "      <td>7.20290</td>\n",
       "    </tr>\n",
       "    <tr>\n",
       "      <th>93</th>\n",
       "      <td>5.3054</td>\n",
       "      <td>1.98690</td>\n",
       "    </tr>\n",
       "    <tr>\n",
       "      <th>94</th>\n",
       "      <td>8.2934</td>\n",
       "      <td>0.14454</td>\n",
       "    </tr>\n",
       "    <tr>\n",
       "      <th>95</th>\n",
       "      <td>13.3940</td>\n",
       "      <td>9.05510</td>\n",
       "    </tr>\n",
       "    <tr>\n",
       "      <th>96</th>\n",
       "      <td>5.4369</td>\n",
       "      <td>0.61705</td>\n",
       "    </tr>\n",
       "  </tbody>\n",
       "</table>\n",
       "<p>97 rows × 2 columns</p>\n",
       "</div>"
      ],
      "text/plain": [
       "    population    profit\n",
       "0       6.1101  17.59200\n",
       "1       5.5277   9.13020\n",
       "2       8.5186  13.66200\n",
       "3       7.0032  11.85400\n",
       "4       5.8598   6.82330\n",
       "..         ...       ...\n",
       "92      5.8707   7.20290\n",
       "93      5.3054   1.98690\n",
       "94      8.2934   0.14454\n",
       "95     13.3940   9.05510\n",
       "96      5.4369   0.61705\n",
       "\n",
       "[97 rows x 2 columns]"
      ]
     },
     "execution_count": 2,
     "metadata": {},
     "output_type": "execute_result"
    }
   ],
   "source": [
    "# Visualizing the data\n",
    "ex1_df = pd.read_csv('ex1data1.txt')\n",
    "ex1_df"
   ]
  },
  {
   "cell_type": "code",
   "execution_count": 3,
   "metadata": {},
   "outputs": [
    {
     "data": {
      "image/png": "[encoded data removed]",
      "text/plain": [
       "<Figure size 1152x432 with 1 Axes>"
      ]
     },
     "metadata": {
      "needs_background": "light"
     },
     "output_type": "display_data"
    }
   ],
   "source": [
    "# Setting up parameters to plot the training data\n",
    "xx = ex1_df['population']\n",
    "yy = ex1_df['profit']\n",
    "\n",
    "plt.figure(figsize=(16, 6))\n",
    "plt.xlabel('population size *10000')\n",
    "plt.ylabel('profit *10000$')\n",
    "plt.title(\"City Population to Profit Data\")\n",
    "plt.plot(xx,yy, 'xc')\n",
    "plt.show()"
   ]
  },
  {
   "cell_type": "code",
   "execution_count": 4,
   "metadata": {},
   "outputs": [
    {
     "data": {
      "text/html": [
       "<div>\n",
       "<style scoped>\n",
       "    .dataframe tbody tr th:only-of-type {\n",
       "        vertical-align: middle;\n",
       "    }\n",
       "\n",
       "    .dataframe tbody tr th {\n",
       "        vertical-align: top;\n",
       "    }\n",
       "\n",
       "    .dataframe thead th {\n",
       "        text-align: right;\n",
       "    }\n",
       "</style>\n",
       "<table border=\"1\" class=\"dataframe\">\n",
       "  <thead>\n",
       "    <tr style=\"text-align: right;\">\n",
       "      <th></th>\n",
       "      <th>ones</th>\n",
       "      <th>population</th>\n",
       "      <th>profit</th>\n",
       "    </tr>\n",
       "  </thead>\n",
       "  <tbody>\n",
       "    <tr>\n",
       "      <th>0</th>\n",
       "      <td>1</td>\n",
       "      <td>6.1101</td>\n",
       "      <td>17.5920</td>\n",
       "    </tr>\n",
       "    <tr>\n",
       "      <th>1</th>\n",
       "      <td>1</td>\n",
       "      <td>5.5277</td>\n",
       "      <td>9.1302</td>\n",
       "    </tr>\n",
       "    <tr>\n",
       "      <th>2</th>\n",
       "      <td>1</td>\n",
       "      <td>8.5186</td>\n",
       "      <td>13.6620</td>\n",
       "    </tr>\n",
       "    <tr>\n",
       "      <th>3</th>\n",
       "      <td>1</td>\n",
       "      <td>7.0032</td>\n",
       "      <td>11.8540</td>\n",
       "    </tr>\n",
       "    <tr>\n",
       "      <th>4</th>\n",
       "      <td>1</td>\n",
       "      <td>5.8598</td>\n",
       "      <td>6.8233</td>\n",
       "    </tr>\n",
       "  </tbody>\n",
       "</table>\n",
       "</div>"
      ],
      "text/plain": [
       "   ones  population   profit\n",
       "0     1      6.1101  17.5920\n",
       "1     1      5.5277   9.1302\n",
       "2     1      8.5186  13.6620\n",
       "3     1      7.0032  11.8540\n",
       "4     1      5.8598   6.8233"
      ]
     },
     "execution_count": 4,
     "metadata": {},
     "output_type": "execute_result"
    }
   ],
   "source": [
    "# Adding a column of 1's into the training data (for matrix multiplication)\n",
    "ex1_df.insert(0, 'ones', 1)\n",
    "#del ex1_df['ones'] #to delete a column\n",
    "ex1_df.head()"
   ]
  },
  {
   "cell_type": "code",
   "execution_count": 5,
   "metadata": {},
   "outputs": [],
   "source": [
    "# Putting 1's and population in X data frame, and profit into y data frame\n",
    "cols = ex1_df.shape[1]\n",
    "\n",
    "X_df = ex1_df.iloc[:,0:cols-1]\n",
    "y_df = ex1_df.iloc[:,cols-1:cols]\n",
    "\n",
    "# Converting the data frames into matricies with numpy\n",
    "X = np.matrix(X_df.values)\n",
    "y = np.matrix(y_df.values)\n",
    "theta = np.matrix(np.zeros(2))\n",
    "\n",
    "# Setting up parameters for gradient descent iterations\n",
    "m = len(y)\n",
    "alpha = 0.01\n",
    "iters = 1200"
   ]
  },
  {
   "cell_type": "code",
   "execution_count": null,
   "metadata": {},
   "outputs": [],
   "source": []
  },
  {
   "cell_type": "code",
   "execution_count": 6,
   "metadata": {},
   "outputs": [],
   "source": [
    "# Cost Function\n",
    "def computeCost(X, y, theta, m):\n",
    "    \n",
    "    difference = (X*theta.T)-y # output of hypothesis function (prediction) - an actualy value\n",
    "    J = (1/(2*m) * np.power(difference,2)).sum()\n",
    "    \n",
    "    return J"
   ]
  },
  {
   "cell_type": "code",
   "execution_count": 7,
   "metadata": {},
   "outputs": [
    {
     "name": "stdout",
     "output_type": "stream",
     "text": [
      "Cost function for theta=[0;0]  is 32.07273387745567\n",
      "Cost function for theta=[-1;2] is 54.24245508201237\n"
     ]
    }
   ],
   "source": [
    "# Checking if the Cost Function Works\n",
    "J = computeCost(X,y,theta,m)\n",
    "J_test = computeCost(X,y,np.matrix([-1,2]),m)\n",
    "\n",
    "print(\"Cost function for theta=[0;0]  is {}\".format(J))\n",
    "print(\"Cost function for theta=[-1;2] is {}\".format(J_test))"
   ]
  },
  {
   "cell_type": "code",
   "execution_count": null,
   "metadata": {},
   "outputs": [],
   "source": []
  },
  {
   "cell_type": "code",
   "execution_count": 8,
   "metadata": {},
   "outputs": [],
   "source": [
    "#Gradient Descent algorithm for updating parameter values\n",
    "def gradientDescent(X, y, theta, alpha, iters):\n",
    "    temp = np.matrix(np.zeros(theta.shape)) #creating a temporary parameter matrix by copying the shape of theta\n",
    "    parameters = theta.ravel().shape[1]     #the number of parameters to update\n",
    "    cost = np.zeros(iters)                  #creating an array to store cost function values after each iteration\n",
    "    \n",
    "    for i in range(iters):\n",
    "        difference = (X * theta.T) - y\n",
    "        \n",
    "        for j in range(parameters):\n",
    "            term = np.multiply(difference, X[:,j]) #multiply difference matrix by 1st, and then 2nd column of X matrix\n",
    "            temp[0,j] = theta[0,j] - ((alpha / len(X)) * np.sum(term)) #write the updated parameters into temp\n",
    "            \n",
    "        theta = temp \n",
    "        cost[i] = computeCost(X, y, theta, m) # updating cost function values\n",
    "        \n",
    "    return theta, cost"
   ]
  },
  {
   "cell_type": "code",
   "execution_count": 9,
   "metadata": {},
   "outputs": [
    {
     "name": "stdout",
     "output_type": "stream",
     "text": [
      "After 1200 iterations, theta now has values [[-3.43962171  1.14720751]]\n"
     ]
    }
   ],
   "source": [
    "# Checking if Gradient Descent Works\n",
    "theta_update, cost = gradientDescent(X, y, theta, alpha, iters)\n",
    "print(\"After {} iterations, theta now has values {}\".format(iters, theta_update))"
   ]
  },
  {
   "cell_type": "code",
   "execution_count": null,
   "metadata": {},
   "outputs": [],
   "source": []
  },
  {
   "cell_type": "code",
   "execution_count": 10,
   "metadata": {},
   "outputs": [
    {
     "data": {
      "image/png": "[encoded data removed]",
      "text/plain": [
       "<Figure size 1152x432 with 1 Axes>"
      ]
     },
     "metadata": {
      "needs_background": "light"
     },
     "output_type": "display_data"
    }
   ],
   "source": [
    "# Plotting training data with a fitting function on it\n",
    "x = np.linspace(ex1_df.population.min(), ex1_df.population.max(), 100) \n",
    "# alternatively it is okay to just use xx, but the line will apper dotted, and not as a straight line\n",
    "fitting_function = theta_update[0,0] + (theta_update[0,1]*x)\n",
    "\n",
    "fig, ax = plt.subplots(figsize=(16,6))\n",
    "ax.plot(x, fitting_function, c='m', label='Prediction') #plotting the fitting line\n",
    "ax.scatter(ex1_df.population, ex1_df.profit, c='c',label='Traning Data')\n",
    "\n",
    "ax.set_xlabel('population size *10000')\n",
    "ax.set_ylabel('profit *10000$')\n",
    "ax.set_title('City Population to Profit Data Prediction')\n",
    "ax.legend(loc=4)\n",
    "\n",
    "plt.show()"
   ]
  },
  {
   "cell_type": "code",
   "execution_count": 11,
   "metadata": {},
   "outputs": [
    {
     "data": {
      "image/png": "[encoded data removed]",
      "text/plain": [
       "<Figure size 360x360 with 1 Axes>"
      ]
     },
     "metadata": {
      "needs_background": "light"
     },
     "output_type": "display_data"
    }
   ],
   "source": [
    "# Plotting the evolution of the cost function throughout Gradient Descent\n",
    "plt.figure(figsize=(5, 5))\n",
    "plt.xlabel('number of iterations')\n",
    "plt.ylabel('cost function values')\n",
    "plt.title(\"Change In Cost Function\")\n",
    "plt.plot(np.arange(iters), cost, c='b')\n",
    "plt.show()"
   ]
  },
  {
   "cell_type": "code",
   "execution_count": null,
   "metadata": {},
   "outputs": [],
   "source": []
  },
  {
   "cell_type": "code",
   "execution_count": null,
   "metadata": {},
   "outputs": [],
   "source": []
  },
  {
   "cell_type": "code",
   "execution_count": null,
   "metadata": {},
   "outputs": [],
   "source": []
  },
  {
   "cell_type": "markdown",
   "metadata": {},
   "source": [
    "## Linear Regression With Multiple Variables\n",
    "In this part, you will implement linear regression with multiple variables to predict the prices of houses. Suppose  you  are  selling  your  house  and  you want to know what a good market price would be. One way to do this is tofirst collect information on recent houses sold and make a model of housingprices.\n",
    "\n",
    "The file ex1data2.txt contains a training set of housing prices in Port-land, Oregon. The first column is the size of the house (in square feet), the second column is the number of bedrooms, and the third column is the price of the house."
   ]
  },
  {
   "cell_type": "code",
   "execution_count": 12,
   "metadata": {},
   "outputs": [
    {
     "data": {
      "text/html": [
       "<div>\n",
       "<style scoped>\n",
       "    .dataframe tbody tr th:only-of-type {\n",
       "        vertical-align: middle;\n",
       "    }\n",
       "\n",
       "    .dataframe tbody tr th {\n",
       "        vertical-align: top;\n",
       "    }\n",
       "\n",
       "    .dataframe thead th {\n",
       "        text-align: right;\n",
       "    }\n",
       "</style>\n",
       "<table border=\"1\" class=\"dataframe\">\n",
       "  <thead>\n",
       "    <tr style=\"text-align: right;\">\n",
       "      <th></th>\n",
       "      <th>house_size</th>\n",
       "      <th>bedrooms</th>\n",
       "      <th>price</th>\n",
       "    </tr>\n",
       "  </thead>\n",
       "  <tbody>\n",
       "    <tr>\n",
       "      <th>0</th>\n",
       "      <td>2104</td>\n",
       "      <td>3</td>\n",
       "      <td>399900</td>\n",
       "    </tr>\n",
       "    <tr>\n",
       "      <th>1</th>\n",
       "      <td>1600</td>\n",
       "      <td>3</td>\n",
       "      <td>329900</td>\n",
       "    </tr>\n",
       "    <tr>\n",
       "      <th>2</th>\n",
       "      <td>2400</td>\n",
       "      <td>3</td>\n",
       "      <td>369000</td>\n",
       "    </tr>\n",
       "    <tr>\n",
       "      <th>3</th>\n",
       "      <td>1416</td>\n",
       "      <td>2</td>\n",
       "      <td>232000</td>\n",
       "    </tr>\n",
       "    <tr>\n",
       "      <th>4</th>\n",
       "      <td>3000</td>\n",
       "      <td>4</td>\n",
       "      <td>539900</td>\n",
       "    </tr>\n",
       "  </tbody>\n",
       "</table>\n",
       "</div>"
      ],
      "text/plain": [
       "   house_size  bedrooms   price\n",
       "0        2104         3  399900\n",
       "1        1600         3  329900\n",
       "2        2400         3  369000\n",
       "3        1416         2  232000\n",
       "4        3000         4  539900"
      ]
     },
     "execution_count": 12,
     "metadata": {},
     "output_type": "execute_result"
    }
   ],
   "source": [
    "# Visualizing the data\n",
    "ex1m_df = pd.read_csv('ex1data2.txt')\n",
    "ex1m_df.head()"
   ]
  },
  {
   "cell_type": "code",
   "execution_count": 13,
   "metadata": {},
   "outputs": [
    {
     "data": {
      "text/html": [
       "<div>\n",
       "<style scoped>\n",
       "    .dataframe tbody tr th:only-of-type {\n",
       "        vertical-align: middle;\n",
       "    }\n",
       "\n",
       "    .dataframe tbody tr th {\n",
       "        vertical-align: top;\n",
       "    }\n",
       "\n",
       "    .dataframe thead th {\n",
       "        text-align: right;\n",
       "    }\n",
       "</style>\n",
       "<table border=\"1\" class=\"dataframe\">\n",
       "  <thead>\n",
       "    <tr style=\"text-align: right;\">\n",
       "      <th></th>\n",
       "      <th>house_size</th>\n",
       "      <th>bedrooms</th>\n",
       "      <th>price</th>\n",
       "    </tr>\n",
       "  </thead>\n",
       "  <tbody>\n",
       "    <tr>\n",
       "      <th>0</th>\n",
       "      <td>0.130010</td>\n",
       "      <td>-0.223675</td>\n",
       "      <td>0.475747</td>\n",
       "    </tr>\n",
       "    <tr>\n",
       "      <th>1</th>\n",
       "      <td>-0.504190</td>\n",
       "      <td>-0.223675</td>\n",
       "      <td>-0.084074</td>\n",
       "    </tr>\n",
       "    <tr>\n",
       "      <th>2</th>\n",
       "      <td>0.502476</td>\n",
       "      <td>-0.223675</td>\n",
       "      <td>0.228626</td>\n",
       "    </tr>\n",
       "    <tr>\n",
       "      <th>3</th>\n",
       "      <td>-0.735723</td>\n",
       "      <td>-1.537767</td>\n",
       "      <td>-0.867025</td>\n",
       "    </tr>\n",
       "    <tr>\n",
       "      <th>4</th>\n",
       "      <td>1.257476</td>\n",
       "      <td>1.090417</td>\n",
       "      <td>1.595389</td>\n",
       "    </tr>\n",
       "  </tbody>\n",
       "</table>\n",
       "</div>"
      ],
      "text/plain": [
       "   house_size  bedrooms     price\n",
       "0    0.130010 -0.223675  0.475747\n",
       "1   -0.504190 -0.223675 -0.084074\n",
       "2    0.502476 -0.223675  0.228626\n",
       "3   -0.735723 -1.537767 -0.867025\n",
       "4    1.257476  1.090417  1.595389"
      ]
     },
     "execution_count": 13,
     "metadata": {},
     "output_type": "execute_result"
    }
   ],
   "source": [
    "# Feature Normalization\n",
    "ex1m_norm_df = (ex1m_df - ex1m_df.mean())/ex1m_df.std()\n",
    "ex1m_norm_df.head()"
   ]
  },
  {
   "cell_type": "code",
   "execution_count": 14,
   "metadata": {},
   "outputs": [
    {
     "data": {
      "text/html": [
       "<div>\n",
       "<style scoped>\n",
       "    .dataframe tbody tr th:only-of-type {\n",
       "        vertical-align: middle;\n",
       "    }\n",
       "\n",
       "    .dataframe tbody tr th {\n",
       "        vertical-align: top;\n",
       "    }\n",
       "\n",
       "    .dataframe thead th {\n",
       "        text-align: right;\n",
       "    }\n",
       "</style>\n",
       "<table border=\"1\" class=\"dataframe\">\n",
       "  <thead>\n",
       "    <tr style=\"text-align: right;\">\n",
       "      <th></th>\n",
       "      <th>ones</th>\n",
       "      <th>house_size</th>\n",
       "      <th>bedrooms</th>\n",
       "      <th>price</th>\n",
       "    </tr>\n",
       "  </thead>\n",
       "  <tbody>\n",
       "    <tr>\n",
       "      <th>0</th>\n",
       "      <td>1</td>\n",
       "      <td>0.130010</td>\n",
       "      <td>-0.223675</td>\n",
       "      <td>0.475747</td>\n",
       "    </tr>\n",
       "    <tr>\n",
       "      <th>1</th>\n",
       "      <td>1</td>\n",
       "      <td>-0.504190</td>\n",
       "      <td>-0.223675</td>\n",
       "      <td>-0.084074</td>\n",
       "    </tr>\n",
       "    <tr>\n",
       "      <th>2</th>\n",
       "      <td>1</td>\n",
       "      <td>0.502476</td>\n",
       "      <td>-0.223675</td>\n",
       "      <td>0.228626</td>\n",
       "    </tr>\n",
       "    <tr>\n",
       "      <th>3</th>\n",
       "      <td>1</td>\n",
       "      <td>-0.735723</td>\n",
       "      <td>-1.537767</td>\n",
       "      <td>-0.867025</td>\n",
       "    </tr>\n",
       "    <tr>\n",
       "      <th>4</th>\n",
       "      <td>1</td>\n",
       "      <td>1.257476</td>\n",
       "      <td>1.090417</td>\n",
       "      <td>1.595389</td>\n",
       "    </tr>\n",
       "  </tbody>\n",
       "</table>\n",
       "</div>"
      ],
      "text/plain": [
       "   ones  house_size  bedrooms     price\n",
       "0     1    0.130010 -0.223675  0.475747\n",
       "1     1   -0.504190 -0.223675 -0.084074\n",
       "2     1    0.502476 -0.223675  0.228626\n",
       "3     1   -0.735723 -1.537767 -0.867025\n",
       "4     1    1.257476  1.090417  1.595389"
      ]
     },
     "execution_count": 14,
     "metadata": {},
     "output_type": "execute_result"
    }
   ],
   "source": [
    "ex1m_norm_df.insert(0, 'ones', 1)\n",
    "ex1m_norm_df.head()"
   ]
  },
  {
   "cell_type": "code",
   "execution_count": 15,
   "metadata": {},
   "outputs": [],
   "source": [
    "# Putting 1's and house_size and bedrooms in X data frame, and price into y data frame\n",
    "cols_m = ex1m_norm_df.shape[1]\n",
    "\n",
    "X_m_df = ex1m_norm_df.iloc[:,0:cols_m-1]\n",
    "y_m_df = ex1m_norm_df.iloc[:,cols_m-1:cols_m]\n",
    "\n",
    "# Converting the data frames into matricies with numpy\n",
    "X_m = np.matrix(X_m_df.values)\n",
    "y_m = np.matrix(y_m_df.values)\n",
    "theta_m = np.matrix(np.zeros(3))"
   ]
  },
  {
   "cell_type": "code",
   "execution_count": null,
   "metadata": {},
   "outputs": [],
   "source": []
  },
  {
   "cell_type": "code",
   "execution_count": 16,
   "metadata": {},
   "outputs": [
    {
     "name": "stdout",
     "output_type": "stream",
     "text": [
      "After 300 iterations, theta now has values [[-1.35187370e-16  7.52175361e-01  7.11826700e-02]]\n"
     ]
    }
   ],
   "source": [
    "# Trying different learning rates\n",
    "alpha_1 = 0.01\n",
    "iters = 300\n",
    "theta_m_update1, cost_m_1 = gradientDescent(X_m, y_m, theta_m, alpha_1, iters)\n",
    "\n",
    "print(\"After {} iterations, theta now has values {}\".format(iters, theta_m_update1))"
   ]
  },
  {
   "cell_type": "code",
   "execution_count": 17,
   "metadata": {},
   "outputs": [
    {
     "name": "stdout",
     "output_type": "stream",
     "text": [
      "After 300 iterations, theta now has values [[-1.11228993e-16  8.84082182e-01 -5.24950135e-02]]\n"
     ]
    }
   ],
   "source": [
    "alpha_2 = 0.05\n",
    "theta_m = np.matrix(np.zeros(3))\n",
    "theta_m_update2, cost_m_2 = gradientDescent(X_m, y_m, theta_m, alpha_2, iters)\n",
    "\n",
    "print(\"After {} iterations, theta now has values {}\".format(iters, theta_m_update2))"
   ]
  },
  {
   "cell_type": "code",
   "execution_count": 18,
   "metadata": {},
   "outputs": [
    {
     "name": "stdout",
     "output_type": "stream",
     "text": [
      "After 300 iterations, theta now has values [[-1.24419387e-16  6.78638529e-01  1.19838174e-01]]\n"
     ]
    }
   ],
   "source": [
    "alpha_3 = 0.007\n",
    "theta_m = np.matrix(np.zeros(3))\n",
    "theta_m_update3, cost_m_3 = gradientDescent(X_m, y_m, theta_m, alpha_3, iters)\n",
    "\n",
    "print(\"After {} iterations, theta now has values {}\".format(iters, theta_m_update3))"
   ]
  },
  {
   "cell_type": "code",
   "execution_count": 19,
   "metadata": {},
   "outputs": [
    {
     "name": "stdout",
     "output_type": "stream",
     "text": [
      "After 300 iterations, theta now has values [[-1.09664051e-16  8.84765126e-01 -5.31779575e-02]]\n"
     ]
    }
   ],
   "source": [
    "alpha_4 = 0.1\n",
    "theta_m = np.matrix(np.zeros(3))\n",
    "theta_m_update4, cost_m_4 = gradientDescent(X_m, y_m, theta_m, alpha_4, iters)\n",
    "\n",
    "print(\"After {} iterations, theta now has values {}\".format(iters, theta_m_update4))"
   ]
  },
  {
   "cell_type": "code",
   "execution_count": null,
   "metadata": {},
   "outputs": [],
   "source": []
  },
  {
   "cell_type": "code",
   "execution_count": 20,
   "metadata": {},
   "outputs": [
    {
     "data": {
      "image/png": "[encoded data removed]",
      "text/plain": [
       "<Figure size 360x360 with 1 Axes>"
      ]
     },
     "metadata": {
      "needs_background": "light"
     },
     "output_type": "display_data"
    }
   ],
   "source": [
    "# Plotting the evolution of the cost function throughout Gradient Descent\n",
    "plt.figure(figsize=(5, 5))\n",
    "plt.xlabel('number of iterations')\n",
    "plt.ylabel('cost function values')\n",
    "plt.title(\"Change In Cost Function\")\n",
    "plt.plot(np.arange(iters), cost_m_1, c='b')\n",
    "plt.plot(np.arange(iters), cost_m_2, c='r')\n",
    "plt.plot(np.arange(iters), cost_m_3, c='c')\n",
    "plt.plot(np.arange(iters), cost_m_4, c='m')\n",
    "\n",
    "plt.show()"
   ]
  },
  {
   "cell_type": "code",
   "execution_count": 37,
   "metadata": {},
   "outputs": [],
   "source": [
    "# Prediction Function\n",
    "def predict(house_size, bedrooms, theta):\n",
    "    \n",
    "    #normalizing\n",
    "    house_size = (house_size - ex1m_df.house_size.mean())/ex1m_df.house_size.std()\n",
    "    bedrooms = (bedrooms - ex1m_df.bedrooms.mean())/ex1m_df.bedrooms.std()\n",
    "    \n",
    "    inputs = np.matrix([1, house_size, bedrooms])\n",
    "    prediction = inputs*theta.T\n",
    "    \n",
    "    return float(prediction)\n"
   ]
  },
  {
   "cell_type": "code",
   "execution_count": 45,
   "metadata": {},
   "outputs": [
    {
     "name": "stdout",
     "output_type": "stream",
     "text": [
      "The price of a 1650 square meter and 3 bedroom house is 296919.2$\n"
     ]
    }
   ],
   "source": [
    "# Predicting 1650 square feed 3 bedroom house price\n",
    "size_sm = 1650\n",
    "beds = 3\n",
    "\n",
    "prediction = predict(size_sm, beds, theta_m_update1)\n",
    "prediction = round(prediction*ex1m_df.price.std() + ex1m_df.price.mean(),2)\n",
    "print(\"The price of a {} square meter and {} bedroom house is {}$\".format(size_sm, beds, prediction))"
   ]
  },
  {
   "cell_type": "code",
   "execution_count": null,
   "metadata": {},
   "outputs": [],
   "source": []
  },
  {
   "cell_type": "code",
   "execution_count": null,
   "metadata": {},
   "outputs": [],
   "source": []
  },
  {
   "cell_type": "code",
   "execution_count": null,
   "metadata": {},
   "outputs": [],
   "source": []
  },
  {
   "cell_type": "code",
   "execution_count": 65,
   "metadata": {},
   "outputs": [],
   "source": [
    "from numpy.linalg import inv"
   ]
  },
  {
   "cell_type": "code",
   "execution_count": 72,
   "metadata": {},
   "outputs": [],
   "source": [
    "# Normal Equation\n",
    "def normalEquation(X_m, y_m): \n",
    "    X_transpose = X_m.T  \n",
    "    best_params = inv(X_transpose.dot(X_m)).dot(X_transpose).dot(y_m)  \n",
    "    # normal equation  \n",
    "    # theta_best = (X.T * X)^(-1) * X.T * y  \n",
    "          \n",
    "    return best_params # returns a list  \n",
    "\n",
    "    "
   ]
  },
  {
   "cell_type": "code",
   "execution_count": 75,
   "metadata": {},
   "outputs": [
    {
     "data": {
      "text/plain": [
       "matrix([[1459.7043435]])"
      ]
     },
     "execution_count": 75,
     "metadata": {},
     "output_type": "execute_result"
    }
   ],
   "source": [
    "theta_normal = normalEquation(X_m, y_m)\n",
    "inputs = np.matrix([1,size_sm,beds])\n",
    "\n",
    "prediction_normal = inputs*theta_normal\n",
    "prediction_normal"
   ]
  },
  {
   "cell_type": "code",
   "execution_count": 74,
   "metadata": {},
   "outputs": [
    {
     "data": {
      "text/plain": [
       "matrix([[-7.97972799e-17],\n",
       "        [ 8.84765988e-01],\n",
       "        [-5.31788197e-02]])"
      ]
     },
     "execution_count": 74,
     "metadata": {},
     "output_type": "execute_result"
    }
   ],
   "source": [
    "theta_normal"
   ]
  }
 ],
 "metadata": {
  "kernelspec": {
   "display_name": "Python 3",
   "language": "python",
   "name": "python3"
  },
  "language_info": {
   "codemirror_mode": {
    "name": "ipython",
    "version": 3
   },
   "file_extension": ".py",
   "mimetype": "text/x-python",
   "name": "python",
   "nbconvert_exporter": "python",
   "pygments_lexer": "ipython3",
   "version": "3.8.3"
  }
 },
 "nbformat": 4,
 "nbformat_minor": 4
}
